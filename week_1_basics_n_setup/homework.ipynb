{
 "cells": [
  {
   "cell_type": "code",
   "execution_count": 14,
   "metadata": {},
   "outputs": [
    {
     "name": "stdout",
     "output_type": "stream",
     "text": [
      "Google Cloud SDK 398.0.0\n",
      "bq 2.0.75\n",
      "core 2022.08.12\n",
      "gsutil 5.12\n"
     ]
    },
    {
     "name": "stderr",
     "output_type": "stream",
     "text": [
      "Updates are available for some Google Cloud CLI components.  To install them,\n",
      "please run:\n",
      "  $ gcloud components update\n"
     ]
    }
   ],
   "source": [
    "%%bash \n",
    "gcloud --version"
   ]
  },
  {
   "cell_type": "code",
   "execution_count": null,
   "metadata": {
    "vscode": {
     "languageId": "sql"
    }
   },
   "outputs": [],
   "source": [
    "-- How many taxi trips were there on January 15?\n",
    "SELECT count(*) from yellow_taxi_trips where tpep_pickup_datetime::date='2021-01-15';\n",
    "-- 53024"
   ]
  },
  {
   "cell_type": "code",
   "execution_count": 1,
   "metadata": {
    "vscode": {
     "languageId": "sql"
    }
   },
   "outputs": [
    {
     "ename": "SyntaxError",
     "evalue": "invalid syntax (1449867931.py, line 1)",
     "output_type": "error",
     "traceback": [
      "\u001b[0;36m  Cell \u001b[0;32mIn [1], line 1\u001b[0;36m\u001b[0m\n\u001b[0;31m    -- Max tip for each day\u001b[0m\n\u001b[0m           ^\u001b[0m\n\u001b[0;31mSyntaxError\u001b[0m\u001b[0;31m:\u001b[0m invalid syntax\n"
     ]
    }
   ],
   "source": [
    "-- Max tip for each day\n",
    "SELECT tpep_pickup_datetime::date, max(tip_amount)\n",
    "FROM public.yellow_taxi_trips\n",
    "GROUP BY tpep_pickup_datetime::date\n",
    "ORDER BY tpep_pickup_datetime::date\n",
    "\n",
    "-- On which day it was the largest tip in January?\n",
    "-- \"2021-01-20\" with 1140.44\n",
    "SELECT tpep_pickup_datetime::date, tip_amount\n",
    "FROM public.yellow_taxi_trips\n",
    "where tpep_pickup_datetime::date>='2021-01-01' and tpep_pickup_datetime::date<='2021-01-31' and tip_amount = (\n",
    "    SELECT max(tip_amount)\n",
    "    FROM public.yellow_taxi_trips\n",
    "    where tpep_pickup_datetime::date>='2021-01-01' and tpep_pickup_datetime::date<='2021-01-31'\n",
    ")\n",
    " "
   ]
  },
  {
   "cell_type": "code",
   "execution_count": null,
   "metadata": {
    "vscode": {
     "languageId": "sql"
    }
   },
   "outputs": [],
   "source": [
    "-- What was the most popular destination for passengers picked up in central park on January 14?\n",
    "-- \"Upper East Side South\" with 97 trips \n",
    "SELECT z.\"Zone\", n_trips from\n",
    "(SELECT trips.\"DOLocationID\",count(trips.\"DOLocationID\") as n_trips\n",
    "FROM public.yellow_taxi_trips as trips INNER JOIN zones as z on trips.\"PULocationID\"=z.\"LocationID\"\n",
    "where tpep_pickup_datetime::date='2021-01-14' and tpep_pickup_datetime::date<='2021-01-31' and z.\"Zone\"='Central Park'\n",
    "group by trips.\"DOLocationID\") as trips_DO INNER JOIN zones as z on trips_DO.\"DOLocationID\"=z.\"LocationID\"\n",
    "ORDER BY n_trips DESC\n",
    "LIMIT 1\n",
    "\n"
   ]
  },
  {
   "cell_type": "code",
   "execution_count": null,
   "metadata": {
    "vscode": {
     "languageId": "sql"
    }
   },
   "outputs": [],
   "source": [
    "-- What's the pickup-dropoff pair with the largest average price for a ride (calculated based on total_amount)?\n",
    "-- \"Alphabet City / Unknown\" with 2292.4 as the avg price\n",
    "\n",
    "SELECT CONCAT(COALESCE(pu_zones.\"Zone\", 'Unknown'),' / ',COALESCE(do_zones.\"Zone\", 'Unknown')) as pickup_dropoff_pair, avg_price  from \n",
    "(\n",
    "\tSELECT trips.\"DOLocationID\",trips.\"PULocationID\", avg(trips.total_amount) as avg_price\n",
    "\tFROM public.yellow_taxi_trips as trips \n",
    "\tgroup by trips.\"DOLocationID\", trips.\"PULocationID\"\n",
    "\tORDER BY avg_price DESC\n",
    ") as trips_avg_price \n",
    "LEFT OUTER JOIN zones as pu_zones on pu_zones.\"LocationID\" = trips_avg_price.\"PULocationID\" \n",
    "LEFT OUTER JOIN zones as do_zones on do_zones.\"LocationID\" = trips_avg_price.\"DOLocationID\"\n",
    "LIMIT 1"
   ]
  }
 ],
 "metadata": {
  "kernelspec": {
   "display_name": "Python 3.10.8 64-bit",
   "language": "python",
   "name": "python3"
  },
  "language_info": {
   "codemirror_mode": {
    "name": "ipython",
    "version": 3
   },
   "file_extension": ".py",
   "mimetype": "text/x-python",
   "name": "python",
   "nbconvert_exporter": "python",
   "pygments_lexer": "ipython3",
   "version": "3.10.8"
  },
  "orig_nbformat": 4,
  "vscode": {
   "interpreter": {
    "hash": "aee8b7b246df8f9039afb4144a1f6fd8d2ca17a180786b69acc140d282b71a49"
   }
  }
 },
 "nbformat": 4,
 "nbformat_minor": 2
}
