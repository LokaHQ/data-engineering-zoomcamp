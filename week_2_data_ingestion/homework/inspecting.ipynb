{
 "cells": [
  {
   "cell_type": "code",
   "execution_count": 1,
   "id": "bc453bee-4c21-41cb-956f-d0e0f9e202cd",
   "metadata": {},
   "outputs": [],
   "source": [
    "import pandas as pd"
   ]
  },
  {
   "cell_type": "code",
   "execution_count": 8,
   "id": "d4d28bf3-ee13-4f7c-aa5e-4bcd45467ebf",
   "metadata": {},
   "outputs": [],
   "source": [
    "!curl -sSL https://d37ci6vzurychx.cloudfront.net/trip-data/fhv_tripdata_2020-01.parquet --output local.parquet"
   ]
  },
  {
   "cell_type": "code",
   "execution_count": 9,
   "id": "b59d0f26-5b4a-4d69-b84b-bc06e04e1888",
   "metadata": {},
   "outputs": [],
   "source": [
    "df = pd.read_parquet(\"local.parquet\")"
   ]
  },
  {
   "cell_type": "code",
   "execution_count": 10,
   "id": "e9996e8f-e711-40b9-9d8d-50d3604d9a71",
   "metadata": {},
   "outputs": [
    {
     "data": {
      "text/html": [
       "<div>\n",
       "<style scoped>\n",
       "    .dataframe tbody tr th:only-of-type {\n",
       "        vertical-align: middle;\n",
       "    }\n",
       "\n",
       "    .dataframe tbody tr th {\n",
       "        vertical-align: top;\n",
       "    }\n",
       "\n",
       "    .dataframe thead th {\n",
       "        text-align: right;\n",
       "    }\n",
       "</style>\n",
       "<table border=\"1\" class=\"dataframe\">\n",
       "  <thead>\n",
       "    <tr style=\"text-align: right;\">\n",
       "      <th></th>\n",
       "      <th>dispatching_base_num</th>\n",
       "      <th>pickup_datetime</th>\n",
       "      <th>dropOff_datetime</th>\n",
       "      <th>PUlocationID</th>\n",
       "      <th>DOlocationID</th>\n",
       "      <th>SR_Flag</th>\n",
       "      <th>Affiliated_base_number</th>\n",
       "    </tr>\n",
       "  </thead>\n",
       "  <tbody>\n",
       "    <tr>\n",
       "      <th>0</th>\n",
       "      <td>B00001</td>\n",
       "      <td>2020-01-01 00:30:00</td>\n",
       "      <td>2020-01-01 01:44:00</td>\n",
       "      <td>264.0</td>\n",
       "      <td>264.0</td>\n",
       "      <td>None</td>\n",
       "      <td>B00001</td>\n",
       "    </tr>\n",
       "    <tr>\n",
       "      <th>1</th>\n",
       "      <td>B00001</td>\n",
       "      <td>2020-01-01 00:30:00</td>\n",
       "      <td>2020-01-01 00:47:00</td>\n",
       "      <td>264.0</td>\n",
       "      <td>264.0</td>\n",
       "      <td>None</td>\n",
       "      <td>B00001</td>\n",
       "    </tr>\n",
       "    <tr>\n",
       "      <th>2</th>\n",
       "      <td>B00009</td>\n",
       "      <td>2020-01-01 00:48:00</td>\n",
       "      <td>2020-01-01 01:19:00</td>\n",
       "      <td>264.0</td>\n",
       "      <td>264.0</td>\n",
       "      <td>None</td>\n",
       "      <td>B00009</td>\n",
       "    </tr>\n",
       "    <tr>\n",
       "      <th>3</th>\n",
       "      <td>B00009</td>\n",
       "      <td>2020-01-01 00:34:00</td>\n",
       "      <td>2020-01-01 00:43:00</td>\n",
       "      <td>264.0</td>\n",
       "      <td>264.0</td>\n",
       "      <td>None</td>\n",
       "      <td>B00009</td>\n",
       "    </tr>\n",
       "    <tr>\n",
       "      <th>4</th>\n",
       "      <td>B00009</td>\n",
       "      <td>2020-01-01 00:23:00</td>\n",
       "      <td>2020-01-01 00:32:00</td>\n",
       "      <td>264.0</td>\n",
       "      <td>264.0</td>\n",
       "      <td>None</td>\n",
       "      <td>B00009</td>\n",
       "    </tr>\n",
       "  </tbody>\n",
       "</table>\n",
       "</div>"
      ],
      "text/plain": [
       "  dispatching_base_num     pickup_datetime    dropOff_datetime  PUlocationID  \\\n",
       "0               B00001 2020-01-01 00:30:00 2020-01-01 01:44:00         264.0   \n",
       "1               B00001 2020-01-01 00:30:00 2020-01-01 00:47:00         264.0   \n",
       "2               B00009 2020-01-01 00:48:00 2020-01-01 01:19:00         264.0   \n",
       "3               B00009 2020-01-01 00:34:00 2020-01-01 00:43:00         264.0   \n",
       "4               B00009 2020-01-01 00:23:00 2020-01-01 00:32:00         264.0   \n",
       "\n",
       "   DOlocationID SR_Flag Affiliated_base_number  \n",
       "0         264.0    None                 B00001  \n",
       "1         264.0    None                 B00001  \n",
       "2         264.0    None                 B00009  \n",
       "3         264.0    None                 B00009  \n",
       "4         264.0    None                 B00009  "
      ]
     },
     "execution_count": 10,
     "metadata": {},
     "output_type": "execute_result"
    }
   ],
   "source": [
    "df.head()"
   ]
  },
  {
   "cell_type": "code",
   "execution_count": 8,
   "id": "cfff33bd-3f8a-41fe-b168-c0fe79aa6b45",
   "metadata": {},
   "outputs": [],
   "source": [
    "df.pickup_datetime = pd.to_datetime(df.pickup_datetime)\n",
    "df.dropOff_datetime = pd.to_datetime(df.dropOff_datetime)"
   ]
  },
  {
   "cell_type": "code",
   "execution_count": 15,
   "id": "dff6b540-4ef8-490d-830e-0adeda484c04",
   "metadata": {},
   "outputs": [],
   "source": [
    "df = pd.read_parquet(\"raw_output_2019-06.parquet\")"
   ]
  },
  {
   "cell_type": "code",
   "execution_count": 16,
   "id": "5e0b62d5-7a10-4c6c-8419-f30c18e0d47f",
   "metadata": {},
   "outputs": [
    {
     "data": {
      "text/html": [
       "<div>\n",
       "<style scoped>\n",
       "    .dataframe tbody tr th:only-of-type {\n",
       "        vertical-align: middle;\n",
       "    }\n",
       "\n",
       "    .dataframe tbody tr th {\n",
       "        vertical-align: top;\n",
       "    }\n",
       "\n",
       "    .dataframe thead th {\n",
       "        text-align: right;\n",
       "    }\n",
       "</style>\n",
       "<table border=\"1\" class=\"dataframe\">\n",
       "  <thead>\n",
       "    <tr style=\"text-align: right;\">\n",
       "      <th></th>\n",
       "      <th>dispatching_base_num</th>\n",
       "      <th>pickup_datetime</th>\n",
       "      <th>dropOff_datetime</th>\n",
       "      <th>PUlocationID</th>\n",
       "      <th>DOlocationID</th>\n",
       "      <th>SR_Flag</th>\n",
       "      <th>Affiliated_base_number</th>\n",
       "    </tr>\n",
       "  </thead>\n",
       "  <tbody>\n",
       "    <tr>\n",
       "      <th>0</th>\n",
       "      <td>B00013</td>\n",
       "      <td>2019-06-01 00:51:33</td>\n",
       "      <td>2019-06-01 01:20:07</td>\n",
       "      <td>264</td>\n",
       "      <td>264</td>\n",
       "      <td>None</td>\n",
       "      <td>B00013</td>\n",
       "    </tr>\n",
       "    <tr>\n",
       "      <th>1</th>\n",
       "      <td>B00013</td>\n",
       "      <td>2019-06-01 00:53:05</td>\n",
       "      <td>2019-06-01 01:09:38</td>\n",
       "      <td>264</td>\n",
       "      <td>264</td>\n",
       "      <td>None</td>\n",
       "      <td>B00013</td>\n",
       "    </tr>\n",
       "    <tr>\n",
       "      <th>2</th>\n",
       "      <td>B00013</td>\n",
       "      <td>2019-06-01 00:23:41</td>\n",
       "      <td>2019-06-01 00:56:29</td>\n",
       "      <td>264</td>\n",
       "      <td>264</td>\n",
       "      <td>None</td>\n",
       "      <td>B00013</td>\n",
       "    </tr>\n",
       "    <tr>\n",
       "      <th>3</th>\n",
       "      <td>B00013</td>\n",
       "      <td>2019-06-01 00:18:01</td>\n",
       "      <td>2019-06-01 00:19:48</td>\n",
       "      <td>264</td>\n",
       "      <td>264</td>\n",
       "      <td>None</td>\n",
       "      <td>B00013</td>\n",
       "    </tr>\n",
       "    <tr>\n",
       "      <th>4</th>\n",
       "      <td>B00014</td>\n",
       "      <td>2019-06-01 00:02:31</td>\n",
       "      <td>2019-06-01 00:16:03</td>\n",
       "      <td>264</td>\n",
       "      <td>264</td>\n",
       "      <td>None</td>\n",
       "      <td>B00014</td>\n",
       "    </tr>\n",
       "  </tbody>\n",
       "</table>\n",
       "</div>"
      ],
      "text/plain": [
       "  dispatching_base_num     pickup_datetime    dropOff_datetime  PUlocationID  \\\n",
       "0               B00013 2019-06-01 00:51:33 2019-06-01 01:20:07           264   \n",
       "1               B00013 2019-06-01 00:53:05 2019-06-01 01:09:38           264   \n",
       "2               B00013 2019-06-01 00:23:41 2019-06-01 00:56:29           264   \n",
       "3               B00013 2019-06-01 00:18:01 2019-06-01 00:19:48           264   \n",
       "4               B00014 2019-06-01 00:02:31 2019-06-01 00:16:03           264   \n",
       "\n",
       "   DOlocationID SR_Flag Affiliated_base_number  \n",
       "0           264    None                 B00013  \n",
       "1           264    None                 B00013  \n",
       "2           264    None                 B00013  \n",
       "3           264    None                 B00013  \n",
       "4           264    None                 B00014  "
      ]
     },
     "execution_count": 16,
     "metadata": {},
     "output_type": "execute_result"
    }
   ],
   "source": [
    "df.head()"
   ]
  },
  {
   "cell_type": "code",
   "execution_count": null,
   "id": "74d65813-3fd1-451f-a38b-198b82e9a1e6",
   "metadata": {},
   "outputs": [],
   "source": []
  }
 ],
 "metadata": {
  "kernelspec": {
   "display_name": "venv",
   "language": "python",
   "name": "venv"
  },
  "language_info": {
   "codemirror_mode": {
    "name": "ipython",
    "version": 3
   },
   "file_extension": ".py",
   "mimetype": "text/x-python",
   "name": "python",
   "nbconvert_exporter": "python",
   "pygments_lexer": "ipython3",
   "version": "3.10.8"
  }
 },
 "nbformat": 4,
 "nbformat_minor": 5
}
