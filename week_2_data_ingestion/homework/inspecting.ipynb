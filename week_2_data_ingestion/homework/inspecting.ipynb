{
 "cells": [
  {
   "cell_type": "code",
   "execution_count": 1,
   "id": "bc453bee-4c21-41cb-956f-d0e0f9e202cd",
   "metadata": {},
   "outputs": [],
   "source": [
    "import pandas as pd"
   ]
  },
  {
   "cell_type": "code",
   "execution_count": 3,
   "id": "d4d28bf3-ee13-4f7c-aa5e-4bcd45467ebf",
   "metadata": {},
   "outputs": [],
   "source": [
    "!curl -sSL https://d37ci6vzurychx.cloudfront.net/trip-data/fhv_tripdata_2022-01.parquet --output local.parquet"
   ]
  },
  {
   "cell_type": "code",
   "execution_count": 5,
   "id": "b59d0f26-5b4a-4d69-b84b-bc06e04e1888",
   "metadata": {},
   "outputs": [],
   "source": [
    "df = pd.read_parquet(\"local.parquet\")"
   ]
  },
  {
   "cell_type": "code",
   "execution_count": 6,
   "id": "e9996e8f-e711-40b9-9d8d-50d3604d9a71",
   "metadata": {},
   "outputs": [
    {
     "data": {
      "text/html": [
       "<div>\n",
       "<style scoped>\n",
       "    .dataframe tbody tr th:only-of-type {\n",
       "        vertical-align: middle;\n",
       "    }\n",
       "\n",
       "    .dataframe tbody tr th {\n",
       "        vertical-align: top;\n",
       "    }\n",
       "\n",
       "    .dataframe thead th {\n",
       "        text-align: right;\n",
       "    }\n",
       "</style>\n",
       "<table border=\"1\" class=\"dataframe\">\n",
       "  <thead>\n",
       "    <tr style=\"text-align: right;\">\n",
       "      <th></th>\n",
       "      <th>dispatching_base_num</th>\n",
       "      <th>pickup_datetime</th>\n",
       "      <th>dropOff_datetime</th>\n",
       "      <th>PUlocationID</th>\n",
       "      <th>DOlocationID</th>\n",
       "      <th>SR_Flag</th>\n",
       "      <th>Affiliated_base_number</th>\n",
       "    </tr>\n",
       "  </thead>\n",
       "  <tbody>\n",
       "    <tr>\n",
       "      <th>0</th>\n",
       "      <td>B00009</td>\n",
       "      <td>2022-01-01 00:31:00</td>\n",
       "      <td>2022-01-01 01:05:00</td>\n",
       "      <td>NaN</td>\n",
       "      <td>NaN</td>\n",
       "      <td>None</td>\n",
       "      <td>B00009</td>\n",
       "    </tr>\n",
       "    <tr>\n",
       "      <th>1</th>\n",
       "      <td>B00009</td>\n",
       "      <td>2022-01-01 00:37:00</td>\n",
       "      <td>2022-01-01 01:05:00</td>\n",
       "      <td>NaN</td>\n",
       "      <td>NaN</td>\n",
       "      <td>None</td>\n",
       "      <td>B00009</td>\n",
       "    </tr>\n",
       "    <tr>\n",
       "      <th>2</th>\n",
       "      <td>B00037</td>\n",
       "      <td>2022-01-01 00:56:37</td>\n",
       "      <td>2022-01-01 01:06:11</td>\n",
       "      <td>NaN</td>\n",
       "      <td>85.0</td>\n",
       "      <td>None</td>\n",
       "      <td>B00037</td>\n",
       "    </tr>\n",
       "    <tr>\n",
       "      <th>3</th>\n",
       "      <td>B00037</td>\n",
       "      <td>2022-01-01 00:19:54</td>\n",
       "      <td>2022-01-01 00:30:47</td>\n",
       "      <td>NaN</td>\n",
       "      <td>85.0</td>\n",
       "      <td>None</td>\n",
       "      <td>B00037</td>\n",
       "    </tr>\n",
       "    <tr>\n",
       "      <th>4</th>\n",
       "      <td>B00037</td>\n",
       "      <td>2022-01-01 00:41:49</td>\n",
       "      <td>2022-01-01 00:52:16</td>\n",
       "      <td>NaN</td>\n",
       "      <td>188.0</td>\n",
       "      <td>None</td>\n",
       "      <td>B00037</td>\n",
       "    </tr>\n",
       "  </tbody>\n",
       "</table>\n",
       "</div>"
      ],
      "text/plain": [
       "  dispatching_base_num     pickup_datetime    dropOff_datetime  PUlocationID  \\\n",
       "0               B00009 2022-01-01 00:31:00 2022-01-01 01:05:00           NaN   \n",
       "1               B00009 2022-01-01 00:37:00 2022-01-01 01:05:00           NaN   \n",
       "2               B00037 2022-01-01 00:56:37 2022-01-01 01:06:11           NaN   \n",
       "3               B00037 2022-01-01 00:19:54 2022-01-01 00:30:47           NaN   \n",
       "4               B00037 2022-01-01 00:41:49 2022-01-01 00:52:16           NaN   \n",
       "\n",
       "   DOlocationID SR_Flag Affiliated_base_number  \n",
       "0           NaN    None                 B00009  \n",
       "1           NaN    None                 B00009  \n",
       "2          85.0    None                 B00037  \n",
       "3          85.0    None                 B00037  \n",
       "4         188.0    None                 B00037  "
      ]
     },
     "execution_count": 6,
     "metadata": {},
     "output_type": "execute_result"
    }
   ],
   "source": [
    "df.head()"
   ]
  },
  {
   "cell_type": "code",
   "execution_count": 8,
   "id": "cfff33bd-3f8a-41fe-b168-c0fe79aa6b45",
   "metadata": {},
   "outputs": [],
   "source": [
    "df.pickup_datetime = pd.to_datetime(df.pickup_datetime)\n",
    "df.dropOff_datetime = pd.to_datetime(df.dropOff_datetime)"
   ]
  },
  {
   "cell_type": "code",
   "execution_count": null,
   "id": "dff6b540-4ef8-490d-830e-0adeda484c04",
   "metadata": {},
   "outputs": [],
   "source": []
  }
 ],
 "metadata": {
  "kernelspec": {
   "display_name": "venv",
   "language": "python",
   "name": "venv"
  },
  "language_info": {
   "codemirror_mode": {
    "name": "ipython",
    "version": 3
   },
   "file_extension": ".py",
   "mimetype": "text/x-python",
   "name": "python",
   "nbconvert_exporter": "python",
   "pygments_lexer": "ipython3",
   "version": "3.10.8"
  }
 },
 "nbformat": 4,
 "nbformat_minor": 5
}
