{
 "cells": [
  {
   "cell_type": "code",
   "execution_count": 1,
   "id": "00bc6543",
   "metadata": {},
   "outputs": [],
   "source": [
    "import pyspark\n",
    "from pyspark.sql import SparkSession\n",
    "from pyspark.sql import types"
   ]
  },
  {
   "cell_type": "code",
   "execution_count": 2,
   "id": "cd4a0f3d",
   "metadata": {},
   "outputs": [
    {
     "name": "stderr",
     "output_type": "stream",
     "text": [
      "Setting default log level to \"WARN\".\n",
      "To adjust logging level use sc.setLogLevel(newLevel). For SparkR, use setLogLevel(newLevel).\n"
     ]
    },
    {
     "name": "stdout",
     "output_type": "stream",
     "text": [
      "22/11/24 15:18:13 WARN NativeCodeLoader: Unable to load native-hadoop library for your platform... using builtin-java classes where applicable\n"
     ]
    }
   ],
   "source": [
    "spark = SparkSession.builder \\\n",
    "    .master(\"local[*]\") \\\n",
    "    .appName('test') \\\n",
    "    .getOrCreate()"
   ]
  },
  {
   "cell_type": "code",
   "execution_count": 12,
   "id": "eb3e4c36",
   "metadata": {},
   "outputs": [
    {
     "data": {
      "text/plain": [
       "'3.3.1'"
      ]
     },
     "execution_count": 12,
     "metadata": {},
     "output_type": "execute_result"
    }
   ],
   "source": [
    "spark.version"
   ]
  },
  {
   "cell_type": "code",
   "execution_count": 13,
   "id": "5236cebd",
   "metadata": {},
   "outputs": [
    {
     "name": "stdout",
     "output_type": "stream",
     "text": [
      "-rw-rw-r-- 1 carlos carlos 718M Jul 14 16:23 fhvhv_tripdata_2021-01.csv\r\n"
     ]
    }
   ],
   "source": [
    "!ls -lh fhvhv_tripdata_2021-01.csv"
   ]
  },
  {
   "cell_type": "code",
   "execution_count": 14,
   "id": "0a3399a3",
   "metadata": {},
   "outputs": [],
   "source": [
    "schema = types.StructType([\n",
    "    types.StructField('hvfhs_license_num', types.StringType(), True),\n",
    "    types.StructField('dispatching_base_num', types.StringType(), True),\n",
    "    types.StructField('pickup_datetime', types.TimestampType(), True),\n",
    "    types.StructField('dropoff_datetime', types.TimestampType(), True),\n",
    "    types.StructField('PULocationID', types.IntegerType(), True),\n",
    "    types.StructField('DOLocationID', types.IntegerType(), True),\n",
    "    types.StructField('SR_Flag', types.StringType(), True)\n",
    "])"
   ]
  },
  {
   "cell_type": "code",
   "execution_count": 16,
   "id": "68bc8b72",
   "metadata": {},
   "outputs": [
    {
     "name": "stderr",
     "output_type": "stream",
     "text": [
      "                                                                                \r"
     ]
    }
   ],
   "source": [
    "df = spark.read \\\n",
    "    .option(\"header\", \"true\") \\\n",
    "    .schema(schema) \\\n",
    "    .csv('fhvhv_tripdata_2021-01.csv')\n",
    "\n",
    "df = df.repartition(24)\n",
    "\n",
    "df.write.parquet('data/pq/fhvhv/2021/01/')"
   ]
  },
  {
   "cell_type": "code",
   "execution_count": 17,
   "id": "0e6df652",
   "metadata": {},
   "outputs": [
    {
     "name": "stdout",
     "output_type": "stream",
     "text": [
      "total 215M\r\n",
      "-rw-r--r-- 1 carlos carlos    0 Nov 24 15:33 _SUCCESS\r\n",
      "-rw-r--r-- 1 carlos carlos 9.0M Nov 24 15:33 part-00000-c9835e52-b040-4806-b173-25fda8a4a1f3-c000.snappy.parquet\r\n",
      "-rw-r--r-- 1 carlos carlos 9.0M Nov 24 15:33 part-00001-c9835e52-b040-4806-b173-25fda8a4a1f3-c000.snappy.parquet\r\n",
      "-rw-r--r-- 1 carlos carlos 9.0M Nov 24 15:33 part-00002-c9835e52-b040-4806-b173-25fda8a4a1f3-c000.snappy.parquet\r\n",
      "-rw-r--r-- 1 carlos carlos 9.0M Nov 24 15:33 part-00003-c9835e52-b040-4806-b173-25fda8a4a1f3-c000.snappy.parquet\r\n",
      "-rw-r--r-- 1 carlos carlos 9.0M Nov 24 15:33 part-00004-c9835e52-b040-4806-b173-25fda8a4a1f3-c000.snappy.parquet\r\n",
      "-rw-r--r-- 1 carlos carlos 9.0M Nov 24 15:33 part-00005-c9835e52-b040-4806-b173-25fda8a4a1f3-c000.snappy.parquet\r\n",
      "-rw-r--r-- 1 carlos carlos 9.0M Nov 24 15:33 part-00006-c9835e52-b040-4806-b173-25fda8a4a1f3-c000.snappy.parquet\r\n",
      "-rw-r--r-- 1 carlos carlos 9.0M Nov 24 15:33 part-00007-c9835e52-b040-4806-b173-25fda8a4a1f3-c000.snappy.parquet\r\n",
      "-rw-r--r-- 1 carlos carlos 9.0M Nov 24 15:33 part-00008-c9835e52-b040-4806-b173-25fda8a4a1f3-c000.snappy.parquet\r\n",
      "-rw-r--r-- 1 carlos carlos 9.0M Nov 24 15:33 part-00009-c9835e52-b040-4806-b173-25fda8a4a1f3-c000.snappy.parquet\r\n",
      "-rw-r--r-- 1 carlos carlos 9.0M Nov 24 15:33 part-00010-c9835e52-b040-4806-b173-25fda8a4a1f3-c000.snappy.parquet\r\n",
      "-rw-r--r-- 1 carlos carlos 9.0M Nov 24 15:33 part-00011-c9835e52-b040-4806-b173-25fda8a4a1f3-c000.snappy.parquet\r\n",
      "-rw-r--r-- 1 carlos carlos 9.0M Nov 24 15:33 part-00012-c9835e52-b040-4806-b173-25fda8a4a1f3-c000.snappy.parquet\r\n",
      "-rw-r--r-- 1 carlos carlos 9.0M Nov 24 15:33 part-00013-c9835e52-b040-4806-b173-25fda8a4a1f3-c000.snappy.parquet\r\n",
      "-rw-r--r-- 1 carlos carlos 9.0M Nov 24 15:33 part-00014-c9835e52-b040-4806-b173-25fda8a4a1f3-c000.snappy.parquet\r\n",
      "-rw-r--r-- 1 carlos carlos 9.0M Nov 24 15:33 part-00015-c9835e52-b040-4806-b173-25fda8a4a1f3-c000.snappy.parquet\r\n",
      "-rw-r--r-- 1 carlos carlos 9.0M Nov 24 15:33 part-00016-c9835e52-b040-4806-b173-25fda8a4a1f3-c000.snappy.parquet\r\n",
      "-rw-r--r-- 1 carlos carlos 9.0M Nov 24 15:33 part-00017-c9835e52-b040-4806-b173-25fda8a4a1f3-c000.snappy.parquet\r\n",
      "-rw-r--r-- 1 carlos carlos 9.0M Nov 24 15:33 part-00018-c9835e52-b040-4806-b173-25fda8a4a1f3-c000.snappy.parquet\r\n",
      "-rw-r--r-- 1 carlos carlos 9.0M Nov 24 15:33 part-00019-c9835e52-b040-4806-b173-25fda8a4a1f3-c000.snappy.parquet\r\n",
      "-rw-r--r-- 1 carlos carlos 9.0M Nov 24 15:33 part-00020-c9835e52-b040-4806-b173-25fda8a4a1f3-c000.snappy.parquet\r\n",
      "-rw-r--r-- 1 carlos carlos 9.0M Nov 24 15:33 part-00021-c9835e52-b040-4806-b173-25fda8a4a1f3-c000.snappy.parquet\r\n",
      "-rw-r--r-- 1 carlos carlos 9.0M Nov 24 15:33 part-00022-c9835e52-b040-4806-b173-25fda8a4a1f3-c000.snappy.parquet\r\n",
      "-rw-r--r-- 1 carlos carlos 9.0M Nov 24 15:33 part-00023-c9835e52-b040-4806-b173-25fda8a4a1f3-c000.snappy.parquet\r\n"
     ]
    }
   ],
   "source": [
    "!ls -lh ./data/pq/fhvhv/2021/01"
   ]
  },
  {
   "cell_type": "code",
   "execution_count": 18,
   "id": "58989b55",
   "metadata": {},
   "outputs": [],
   "source": [
    "df = spark.read.parquet('data/pq/fhvhv/2021/01/')"
   ]
  },
  {
   "cell_type": "markdown",
   "id": "48b01d2f",
   "metadata": {},
   "source": [
    "**Q3**: How many taxi trips were there on February 15?"
   ]
  },
  {
   "cell_type": "code",
   "execution_count": 19,
   "id": "f7489aea",
   "metadata": {},
   "outputs": [],
   "source": [
    "from pyspark.sql import functions as F"
   ]
  },
  {
   "cell_type": "code",
   "execution_count": 23,
   "id": "6c2500fd",
   "metadata": {},
   "outputs": [
    {
     "name": "stderr",
     "output_type": "stream",
     "text": [
      "                                                                                \r"
     ]
    },
    {
     "data": {
      "text/plain": [
       "443059"
      ]
     },
     "execution_count": 23,
     "metadata": {},
     "output_type": "execute_result"
    }
   ],
   "source": [
    "df \\\n",
    "    .withColumn('pickup_date', F.to_date(df.pickup_datetime)) \\\n",
    "    .filter(\"pickup_date = '2021-01-15'\") \\\n",
    "    .count()"
   ]
  },
  {
   "cell_type": "code",
   "execution_count": 24,
   "id": "dd7ae60d",
   "metadata": {},
   "outputs": [],
   "source": [
    "df.registerTempTable('fhvhv_2021_01')"
   ]
  },
  {
   "cell_type": "code",
   "execution_count": 25,
   "id": "6d47c147",
   "metadata": {},
   "outputs": [
    {
     "name": "stderr",
     "output_type": "stream",
     "text": [
      "\r\n",
      "[Stage 13:>                                                         (0 + 4) / 4]\r"
     ]
    },
    {
     "name": "stdout",
     "output_type": "stream",
     "text": [
      "+--------+\n",
      "|count(1)|\n",
      "+--------+\n",
      "|  443059|\n",
      "+--------+\n",
      "\n"
     ]
    },
    {
     "name": "stderr",
     "output_type": "stream",
     "text": [
      "\r\n",
      "[Stage 13:==============>                                           (1 + 3) / 4]\r\n",
      "\r\n",
      "                                                                                \r"
     ]
    }
   ],
   "source": [
    "spark.sql(\"\"\"\n",
    "SELECT\n",
    "    COUNT(1)\n",
    "FROM \n",
    "    fhvhv_2021_01\n",
    "WHERE\n",
    "    to_date(pickup_datetime) = '2021-01-15';\n",
    "\"\"\").show()"
   ]
  },
  {
   "cell_type": "markdown",
   "id": "ae3f533b",
   "metadata": {},
   "source": [
    "**Q4**: Longest trip for each day"
   ]
  },
  {
   "cell_type": "code",
   "execution_count": 26,
   "id": "7befe422",
   "metadata": {},
   "outputs": [
    {
     "data": {
      "text/plain": [
       "['hvfhs_license_num',\n",
       " 'dispatching_base_num',\n",
       " 'pickup_datetime',\n",
       " 'dropoff_datetime',\n",
       " 'PULocationID',\n",
       " 'DOLocationID',\n",
       " 'SR_Flag']"
      ]
     },
     "execution_count": 26,
     "metadata": {},
     "output_type": "execute_result"
    }
   ],
   "source": [
    "df.columns"
   ]
  },
  {
   "cell_type": "code",
   "execution_count": 27,
   "id": "279d9161",
   "metadata": {},
   "outputs": [
    {
     "name": "stderr",
     "output_type": "stream",
     "text": [
      "[Stage 16:===========================================>              (3 + 1) / 4]\r"
     ]
    },
    {
     "name": "stdout",
     "output_type": "stream",
     "text": [
      "+-----------+-------------+\n",
      "|pickup_date|max(duration)|\n",
      "+-----------+-------------+\n",
      "| 2021-01-27|        59143|\n",
      "| 2021-01-05|        45012|\n",
      "| 2021-01-30|        41193|\n",
      "| 2021-01-04|        39967|\n",
      "| 2021-01-06|        38417|\n",
      "+-----------+-------------+\n",
      "\n"
     ]
    },
    {
     "name": "stderr",
     "output_type": "stream",
     "text": [
      "\r\n",
      "                                                                                \r"
     ]
    }
   ],
   "source": [
    "df \\\n",
    "    .withColumn('duration', df.dropoff_datetime.cast('long') - df.pickup_datetime.cast('long')) \\\n",
    "    .withColumn('pickup_date', F.to_date(df.pickup_datetime)) \\\n",
    "    .groupBy('pickup_date') \\\n",
    "        .max('duration') \\\n",
    "    .orderBy('max(duration)', ascending=False) \\\n",
    "    .limit(5) \\\n",
    "    .show()"
   ]
  },
  {
   "cell_type": "code",
   "execution_count": 30,
   "id": "74cf0e8b",
   "metadata": {
    "scrolled": true
   },
   "outputs": [
    {
     "name": "stderr",
     "output_type": "stream",
     "text": [
      "\r\n",
      "[Stage 22:>                                                         (0 + 4) / 4]\r"
     ]
    },
    {
     "name": "stdout",
     "output_type": "stream",
     "text": [
      "+-----------+------------------+\n",
      "|pickup_date|          duration|\n",
      "+-----------+------------------+\n",
      "| 2021-01-27| 985.7166666666667|\n",
      "| 2021-01-05|             750.2|\n",
      "| 2021-01-30|            686.55|\n",
      "| 2021-01-04| 666.1166666666667|\n",
      "| 2021-01-06| 640.2833333333333|\n",
      "| 2021-01-17| 583.1166666666667|\n",
      "| 2021-01-07| 577.1166666666667|\n",
      "| 2021-01-29|508.21666666666664|\n",
      "| 2021-01-18|497.18333333333334|\n",
      "| 2021-01-03|486.51666666666665|\n",
      "+-----------+------------------+\n",
      "\n"
     ]
    },
    {
     "name": "stderr",
     "output_type": "stream",
     "text": [
      "\r\n",
      "                                                                                \r"
     ]
    }
   ],
   "source": [
    "spark.sql(\"\"\"\n",
    "SELECT\n",
    "    to_date(pickup_datetime) AS pickup_date,\n",
    "    MAX((CAST(dropoff_datetime AS LONG) - CAST(pickup_datetime AS LONG)) / 60) AS duration\n",
    "FROM \n",
    "    fhvhv_2021_01\n",
    "GROUP BY\n",
    "    1\n",
    "ORDER BY\n",
    "    2 DESC\n",
    "LIMIT 10;\n",
    "\"\"\").show()"
   ]
  },
  {
   "cell_type": "markdown",
   "id": "d915096b",
   "metadata": {},
   "source": [
    "**Q5**: Most frequent `dispatching_base_num`\n",
    "\n",
    "How many stages this spark job has?\n",
    "\n"
   ]
  },
  {
   "cell_type": "code",
   "execution_count": 33,
   "id": "25816aa2",
   "metadata": {},
   "outputs": [
    {
     "name": "stderr",
     "output_type": "stream",
     "text": [
      "\r\n",
      "[Stage 28:>                                                         (0 + 4) / 4]\r\n",
      "\r\n",
      "[Stage 28:=============================>                            (2 + 2) / 4]\r"
     ]
    },
    {
     "name": "stdout",
     "output_type": "stream",
     "text": [
      "+--------------------+--------+\n",
      "|dispatching_base_num|count(1)|\n",
      "+--------------------+--------+\n",
      "|              B02510| 3091000|\n",
      "|              B02764| 1009388|\n",
      "|              B02872|  924960|\n",
      "|              B02875|  735450|\n",
      "|              B02765|  591242|\n",
      "+--------------------+--------+\n",
      "\n"
     ]
    },
    {
     "name": "stderr",
     "output_type": "stream",
     "text": [
      "\r\n",
      "                                                                                \r"
     ]
    }
   ],
   "source": [
    "spark.sql(\"\"\"\n",
    "SELECT\n",
    "    dispatching_base_num,\n",
    "    COUNT(1)\n",
    "FROM \n",
    "    fhvhv_2021_01\n",
    "GROUP BY\n",
    "    1\n",
    "ORDER BY\n",
    "    2 DESC\n",
    "LIMIT 5;\n",
    "\"\"\").show()"
   ]
  },
  {
   "cell_type": "code",
   "execution_count": 34,
   "id": "a78f9fe3",
   "metadata": {},
   "outputs": [
    {
     "name": "stderr",
     "output_type": "stream",
     "text": [
      "\r\n",
      "[Stage 31:>                                                         (0 + 4) / 4]\r"
     ]
    },
    {
     "name": "stdout",
     "output_type": "stream",
     "text": [
      "+--------------------+-------+\n",
      "|dispatching_base_num|  count|\n",
      "+--------------------+-------+\n",
      "|              B02510|3091000|\n",
      "|              B02764|1009388|\n",
      "|              B02872| 924960|\n",
      "|              B02875| 735450|\n",
      "|              B02765| 591242|\n",
      "+--------------------+-------+\n",
      "\n"
     ]
    },
    {
     "name": "stderr",
     "output_type": "stream",
     "text": [
      "\r\n",
      "                                                                                \r"
     ]
    }
   ],
   "source": [
    "df \\\n",
    "    .groupBy('dispatching_base_num') \\\n",
    "        .count() \\\n",
    "    .orderBy('count', ascending=False) \\\n",
    "    .limit(5) \\\n",
    "    .show()"
   ]
  },
  {
   "cell_type": "markdown",
   "id": "0d10173a",
   "metadata": {},
   "source": [
    "**Q6**: Most common locations pair"
   ]
  },
  {
   "cell_type": "code",
   "execution_count": 35,
   "id": "74b7f664",
   "metadata": {},
   "outputs": [],
   "source": [
    "df_zones = spark.read.parquet('zones')"
   ]
  },
  {
   "cell_type": "code",
   "execution_count": 36,
   "id": "81642d3b",
   "metadata": {},
   "outputs": [
    {
     "data": {
      "text/plain": [
       "['LocationID', 'Borough', 'Zone', 'service_zone']"
      ]
     },
     "execution_count": 36,
     "metadata": {},
     "output_type": "execute_result"
    }
   ],
   "source": [
    "df_zones.columns"
   ]
  },
  {
   "cell_type": "code",
   "execution_count": 37,
   "id": "4f460dda",
   "metadata": {},
   "outputs": [
    {
     "data": {
      "text/plain": [
       "['hvfhs_license_num',\n",
       " 'dispatching_base_num',\n",
       " 'pickup_datetime',\n",
       " 'dropoff_datetime',\n",
       " 'PULocationID',\n",
       " 'DOLocationID',\n",
       " 'SR_Flag']"
      ]
     },
     "execution_count": 37,
     "metadata": {},
     "output_type": "execute_result"
    }
   ],
   "source": [
    "df.columns"
   ]
  },
  {
   "cell_type": "code",
   "execution_count": 38,
   "id": "ad8f0101",
   "metadata": {},
   "outputs": [],
   "source": [
    "df_zones.registerTempTable('zones')"
   ]
  },
  {
   "cell_type": "code",
   "execution_count": 40,
   "id": "6f738414",
   "metadata": {},
   "outputs": [
    {
     "name": "stderr",
     "output_type": "stream",
     "text": [
      "                                                                                \r"
     ]
    },
    {
     "data": {
      "text/plain": [
       "[Row(pu_do_pair='East New York / East New York', count(1)=47637),\n",
       " Row(pu_do_pair='Borough Park / Borough Park', count(1)=30920),\n",
       " Row(pu_do_pair='Canarsie / Canarsie', count(1)=29897),\n",
       " Row(pu_do_pair='Crown Heights North / Crown Heights North', count(1)=28851),\n",
       " Row(pu_do_pair='Central Harlem North / Central Harlem North', count(1)=17379)]"
      ]
     },
     "execution_count": 40,
     "metadata": {},
     "output_type": "execute_result"
    }
   ],
   "source": [
    "spark.sql(\"\"\"\n",
    "SELECT\n",
    "    CONCAT(pul.Zone, ' / ', dol.Zone) AS pu_do_pair,\n",
    "    COUNT(1)\n",
    "FROM \n",
    "    fhvhv_2021_01 fhv LEFT JOIN zones pul ON fhv.PULocationID = pul.LocationID\n",
    "                      LEFT JOIN zones dol ON fhv.DOLocationID = dol.LocationID\n",
    "GROUP BY \n",
    "    1\n",
    "ORDER BY\n",
    "    2 DESC\n",
    "LIMIT 5;\n",
    "\"\"\").take(5)"
   ]
  },
  {
   "cell_type": "code",
   "execution_count": null,
   "id": "e4b754d1",
   "metadata": {},
   "outputs": [],
   "source": []
  }
 ],
 "metadata": {
  "kernelspec": {
   "display_name": "Python 3 (ipykernel)",
   "language": "python",
   "name": "python3"
  },
  "language_info": {
   "codemirror_mode": {
    "name": "ipython",
    "version": 3
   },
   "file_extension": ".py",
   "mimetype": "text/x-python",
   "name": "python",
   "nbconvert_exporter": "python",
   "pygments_lexer": "ipython3",
   "version": "3.9.6 (default, Sep 26 2022, 11:37:49) \n[Clang 14.0.0 (clang-1400.0.29.202)]"
  },
  "vscode": {
   "interpreter": {
    "hash": "31f2aee4e71d21fbe5cf8b01ff0e069b9275f58929596ceb00d14d90e3e16cd6"
   }
  }
 },
 "nbformat": 4,
 "nbformat_minor": 5
}
