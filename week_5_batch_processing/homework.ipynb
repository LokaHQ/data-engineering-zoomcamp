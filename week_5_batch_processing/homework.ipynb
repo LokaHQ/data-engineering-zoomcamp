{
 "cells": [
  {
   "cell_type": "code",
   "execution_count": 2,
   "id": "d8191b04",
   "metadata": {},
   "outputs": [],
   "source": [
    "!export PYTHONPATH=\"${SPARK_HOME}/python/:$PYTHONPATH\"\n",
    "!export PYTHONPATH=\"${SPARK_HOME}/python/lib/py4j-0.10.9.5-src.zip:$PYTHONPATH\""
   ]
  },
  {
   "cell_type": "code",
   "execution_count": 1,
   "id": "7e3a6f74",
   "metadata": {},
   "outputs": [],
   "source": [
    "import pyspark\n",
    "from pyspark.sql import SparkSession\n",
    "from pyspark.sql import types\n",
    "import pandas as pd\n",
    "from pyspark.sql import functions as F"
   ]
  },
  {
   "cell_type": "code",
   "execution_count": 2,
   "id": "339013d1",
   "metadata": {},
   "outputs": [],
   "source": [
    "spark = SparkSession.builder \\\n",
    "    .master(\"local[*]\") \\\n",
    "    .appName('test') \\\n",
    "    .getOrCreate()"
   ]
  },
  {
   "cell_type": "markdown",
   "id": "fbedaa69",
   "metadata": {},
   "source": [
    "### Q1"
   ]
  },
  {
   "cell_type": "code",
   "execution_count": 3,
   "id": "efea00e6",
   "metadata": {},
   "outputs": [
    {
     "data": {
      "text/plain": [
       "'3.3.1'"
      ]
     },
     "execution_count": 3,
     "metadata": {},
     "output_type": "execute_result"
    }
   ],
   "source": [
    "spark.version"
   ]
  },
  {
   "cell_type": "markdown",
   "id": "744808ed",
   "metadata": {},
   "source": [
    "### Q2"
   ]
  },
  {
   "cell_type": "code",
   "execution_count": 20,
   "id": "c0d7c3fb",
   "metadata": {},
   "outputs": [],
   "source": [
    "#download parquet file from website\n",
    "pd.read_parquet('fhvhv_tripdata_2021-02.parquet').to_csv('fhvhv_tripdata_2021-02.csv')"
   ]
  },
  {
   "cell_type": "code",
   "execution_count": 21,
   "id": "44bd2b53",
   "metadata": {},
   "outputs": [],
   "source": [
    "schema = types.StructType([\n",
    "    types.StructField('hvfhs_license_num', types.StringType(), True),\n",
    "    types.StructField('dispatching_base_num', types.StringType(), True),\n",
    "    types.StructField('pickup_datetime', types.TimestampType(), True),\n",
    "    types.StructField('dropoff_datetime', types.TimestampType(), True),\n",
    "    types.StructField('PULocationID', types.IntegerType(), True),\n",
    "    types.StructField('DOLocationID', types.IntegerType(), True),\n",
    "    types.StructField('SR_Flag', types.StringType(), True)\n",
    "])"
   ]
  },
  {
   "cell_type": "code",
   "execution_count": 58,
   "id": "42265d64",
   "metadata": {},
   "outputs": [],
   "source": [
    "df = spark.read \\\n",
    "    .option(\"header\", \"true\") \\\n",
    "    .schema(schema) \\\n",
    "    .csv('fhvhv_tripdata_2021-02.csv')"
   ]
  },
  {
   "cell_type": "code",
   "execution_count": 60,
   "id": "dac610a5",
   "metadata": {},
   "outputs": [
    {
     "data": {
      "text/plain": [
       "Row(hvfhs_license_num='0', dispatching_base_num='HV0003', pickup_datetime=None, dropoff_datetime=None, PULocationID=None, DOLocationID=None, SR_Flag='2021-02-01 00:10:40')"
      ]
     },
     "execution_count": 60,
     "metadata": {},
     "output_type": "execute_result"
    }
   ],
   "source": [
    "df.head()"
   ]
  },
  {
   "cell_type": "code",
   "execution_count": 23,
   "id": "2fdcb21e",
   "metadata": {},
   "outputs": [],
   "source": [
    "df = df.repartition(24)"
   ]
  },
  {
   "cell_type": "code",
   "execution_count": 24,
   "id": "4fbf0471",
   "metadata": {},
   "outputs": [],
   "source": [
    "df.write.parquet('hvfhv/2021/02/')"
   ]
  },
  {
   "cell_type": "code",
   "execution_count": 30,
   "id": "19b4abee",
   "metadata": {},
   "outputs": [
    {
     "name": "stdout",
     "output_type": "stream",
     "text": [
      "total 154M\r\n",
      "-rw-r--r-- 1 ricardo ricardo 6,5M dez  5 13:59 part-00000-4ae7c224-cc25-4525-9c40-2558569cd55d-c000.snappy.parquet\r\n",
      "-rw-r--r-- 1 ricardo ricardo 6,5M dez  5 13:59 part-00001-4ae7c224-cc25-4525-9c40-2558569cd55d-c000.snappy.parquet\r\n",
      "-rw-r--r-- 1 ricardo ricardo 6,5M dez  5 13:59 part-00002-4ae7c224-cc25-4525-9c40-2558569cd55d-c000.snappy.parquet\r\n",
      "-rw-r--r-- 1 ricardo ricardo 6,5M dez  5 13:59 part-00003-4ae7c224-cc25-4525-9c40-2558569cd55d-c000.snappy.parquet\r\n",
      "-rw-r--r-- 1 ricardo ricardo 6,5M dez  5 13:59 part-00004-4ae7c224-cc25-4525-9c40-2558569cd55d-c000.snappy.parquet\r\n",
      "-rw-r--r-- 1 ricardo ricardo 6,5M dez  5 13:59 part-00005-4ae7c224-cc25-4525-9c40-2558569cd55d-c000.snappy.parquet\r\n",
      "-rw-r--r-- 1 ricardo ricardo 6,5M dez  5 13:59 part-00006-4ae7c224-cc25-4525-9c40-2558569cd55d-c000.snappy.parquet\r\n",
      "-rw-r--r-- 1 ricardo ricardo 6,5M dez  5 13:59 part-00007-4ae7c224-cc25-4525-9c40-2558569cd55d-c000.snappy.parquet\r\n",
      "-rw-r--r-- 1 ricardo ricardo 6,5M dez  5 13:59 part-00008-4ae7c224-cc25-4525-9c40-2558569cd55d-c000.snappy.parquet\r\n",
      "-rw-r--r-- 1 ricardo ricardo 6,5M dez  5 13:59 part-00009-4ae7c224-cc25-4525-9c40-2558569cd55d-c000.snappy.parquet\r\n",
      "-rw-r--r-- 1 ricardo ricardo 6,5M dez  5 13:59 part-00010-4ae7c224-cc25-4525-9c40-2558569cd55d-c000.snappy.parquet\r\n",
      "-rw-r--r-- 1 ricardo ricardo 6,5M dez  5 13:59 part-00011-4ae7c224-cc25-4525-9c40-2558569cd55d-c000.snappy.parquet\r\n",
      "-rw-r--r-- 1 ricardo ricardo 6,5M dez  5 13:59 part-00012-4ae7c224-cc25-4525-9c40-2558569cd55d-c000.snappy.parquet\r\n",
      "-rw-r--r-- 1 ricardo ricardo 6,5M dez  5 13:59 part-00013-4ae7c224-cc25-4525-9c40-2558569cd55d-c000.snappy.parquet\r\n",
      "-rw-r--r-- 1 ricardo ricardo 6,5M dez  5 13:59 part-00014-4ae7c224-cc25-4525-9c40-2558569cd55d-c000.snappy.parquet\r\n",
      "-rw-r--r-- 1 ricardo ricardo 6,5M dez  5 13:59 part-00015-4ae7c224-cc25-4525-9c40-2558569cd55d-c000.snappy.parquet\r\n",
      "-rw-r--r-- 1 ricardo ricardo 6,5M dez  5 13:59 part-00016-4ae7c224-cc25-4525-9c40-2558569cd55d-c000.snappy.parquet\r\n",
      "-rw-r--r-- 1 ricardo ricardo 6,5M dez  5 13:59 part-00017-4ae7c224-cc25-4525-9c40-2558569cd55d-c000.snappy.parquet\r\n",
      "-rw-r--r-- 1 ricardo ricardo 6,5M dez  5 13:59 part-00018-4ae7c224-cc25-4525-9c40-2558569cd55d-c000.snappy.parquet\r\n",
      "-rw-r--r-- 1 ricardo ricardo 6,5M dez  5 13:59 part-00019-4ae7c224-cc25-4525-9c40-2558569cd55d-c000.snappy.parquet\r\n",
      "-rw-r--r-- 1 ricardo ricardo 6,5M dez  5 13:59 part-00020-4ae7c224-cc25-4525-9c40-2558569cd55d-c000.snappy.parquet\r\n",
      "-rw-r--r-- 1 ricardo ricardo 6,5M dez  5 13:59 part-00021-4ae7c224-cc25-4525-9c40-2558569cd55d-c000.snappy.parquet\r\n",
      "-rw-r--r-- 1 ricardo ricardo 6,5M dez  5 13:59 part-00022-4ae7c224-cc25-4525-9c40-2558569cd55d-c000.snappy.parquet\r\n",
      "-rw-r--r-- 1 ricardo ricardo 6,5M dez  5 13:59 part-00023-4ae7c224-cc25-4525-9c40-2558569cd55d-c000.snappy.parquet\r\n",
      "-rw-r--r-- 1 ricardo ricardo    0 dez  5 13:59 _SUCCESS\r\n"
     ]
    }
   ],
   "source": [
    "!ls -lh ./hvfhv/2021/02/"
   ]
  },
  {
   "cell_type": "markdown",
   "id": "fb5b074c",
   "metadata": {},
   "source": [
    "### Q3"
   ]
  },
  {
   "cell_type": "code",
   "execution_count": 4,
   "id": "058e53f1",
   "metadata": {},
   "outputs": [],
   "source": [
    "df = spark.read.parquet('hvfhv/2021/02/')"
   ]
  },
  {
   "cell_type": "code",
   "execution_count": 5,
   "id": "96bad8d8",
   "metadata": {},
   "outputs": [
    {
     "name": "stdout",
     "output_type": "stream",
     "text": [
      "+-----------------+--------------------+---------------+----------------+------------+------------+-------------------+\n",
      "|hvfhs_license_num|dispatching_base_num|pickup_datetime|dropoff_datetime|PULocationID|DOLocationID|            SR_Flag|\n",
      "+-----------------+--------------------+---------------+----------------+------------+------------+-------------------+\n",
      "|           289858|              HV0003|           null|            null|        null|        null|2021-02-02 13:54:41|\n",
      "|            24800|              HV0003|           null|            null|        null|        null|2021-02-01 05:36:50|\n",
      "|           612642|              HV0005|           null|            null|        null|        null|2021-02-03 10:42:40|\n",
      "|           221766|              HV0003|           null|            null|        null|        null|2021-02-02 09:49:05|\n",
      "|           373963|              HV0003|           null|            null|        null|        null|2021-02-02 17:00:55|\n",
      "|           787302|              HV0003|           null|            null|        null|        null|2021-02-03 18:20:01|\n",
      "|           430290|              HV0003|           null|            null|        null|        null|2021-02-02 20:07:15|\n",
      "|           245018|              HV0003|           null|            null|        null|        null|2021-02-02 10:23:49|\n",
      "|           567206|              HV0003|           null|            null|        null|        null|2021-02-03 08:58:38|\n",
      "|            30868|              HV0003|           null|            null|        null|        null|2021-02-01 06:03:00|\n",
      "|           174554|              HV0003|           null|            null|        null|        null|2021-02-01 23:09:55|\n",
      "|            88352|              HV0005|           null|            null|        null|        null|2021-02-01 12:02:13|\n",
      "|           539896|              HV0005|           null|            null|        null|        null|2021-02-03 07:08:39|\n",
      "|           792770|              HV0003|           null|            null|        null|        null|2021-02-03 18:28:15|\n",
      "|           387575|              HV0005|           null|            null|        null|        null|2021-02-02 18:07:08|\n",
      "|           315029|              HV0005|           null|            null|        null|        null|2021-02-02 14:18:27|\n",
      "|            88943|              HV0003|           null|            null|        null|        null|2021-02-01 12:59:17|\n",
      "|           243629|              HV0005|           null|            null|        null|        null|2021-02-02 10:18:30|\n",
      "|           236048|              HV0003|           null|            null|        null|        null|2021-02-02 10:36:19|\n",
      "|           247735|              HV0005|           null|            null|        null|        null|2021-02-02 10:25:56|\n",
      "+-----------------+--------------------+---------------+----------------+------------+------------+-------------------+\n",
      "only showing top 20 rows\n",
      "\n"
     ]
    }
   ],
   "source": [
    "df.show()"
   ]
  },
  {
   "cell_type": "code",
   "execution_count": 6,
   "id": "a5823af6",
   "metadata": {},
   "outputs": [
    {
     "name": "stdout",
     "output_type": "stream",
     "text": [
      "root\n",
      " |-- hvfhs_license_num: string (nullable = true)\n",
      " |-- dispatching_base_num: string (nullable = true)\n",
      " |-- pickup_datetime: timestamp (nullable = true)\n",
      " |-- dropoff_datetime: timestamp (nullable = true)\n",
      " |-- PULocationID: integer (nullable = true)\n",
      " |-- DOLocationID: integer (nullable = true)\n",
      " |-- SR_Flag: string (nullable = true)\n",
      "\n"
     ]
    }
   ],
   "source": [
    "df.printSchema()"
   ]
  },
  {
   "cell_type": "code",
   "execution_count": 7,
   "id": "43019094",
   "metadata": {},
   "outputs": [
    {
     "data": {
      "text/plain": [
       "0"
      ]
     },
     "execution_count": 7,
     "metadata": {},
     "output_type": "execute_result"
    }
   ],
   "source": [
    "df \\\n",
    "    .withColumn('pickup_date', F.to_date(df.pickup_datetime)) \\\n",
    "    .filter(\"pickup_date = '2021-02-15'\") \\\n",
    "    .count() "
   ]
  },
  {
   "cell_type": "markdown",
   "id": "4b870691",
   "metadata": {},
   "source": [
    "### Q4"
   ]
  },
  {
   "cell_type": "code",
   "execution_count": 8,
   "id": "e8ee7fad",
   "metadata": {},
   "outputs": [
    {
     "name": "stdout",
     "output_type": "stream",
     "text": [
      "+-----------+-------------+\n",
      "|pickup_date|max(duration)|\n",
      "+-----------+-------------+\n",
      "|       null|         null|\n",
      "+-----------+-------------+\n",
      "\n"
     ]
    }
   ],
   "source": [
    "df \\\n",
    "    .withColumn('duration', df.dropoff_datetime.cast('long') - df.pickup_datetime.cast('long')) \\\n",
    "    .withColumn('pickup_date', F.to_date(df.pickup_datetime)) \\\n",
    "    .groupBy('pickup_date') \\\n",
    "    .max('duration') \\\n",
    "    .orderBy('max(duration)',ascending=False) \\\n",
    "    .show()"
   ]
  },
  {
   "cell_type": "markdown",
   "id": "fb619f7e",
   "metadata": {},
   "source": [
    "### Q5"
   ]
  },
  {
   "cell_type": "code",
   "execution_count": 9,
   "id": "cbfe584a",
   "metadata": {},
   "outputs": [
    {
     "name": "stdout",
     "output_type": "stream",
     "text": [
      "+--------------------+-------+\n",
      "|dispatching_base_num|  count|\n",
      "+--------------------+-------+\n",
      "|              HV0003|8290758|\n",
      "|              HV0005|3237166|\n",
      "|              HV0004|  86018|\n",
      "+--------------------+-------+\n",
      "\n"
     ]
    }
   ],
   "source": [
    "df \\\n",
    "    .groupBy('dispatching_base_num') \\\n",
    "    .count() \\\n",
    "    .orderBy('count', ascending=False) \\\n",
    "    .show()"
   ]
  },
  {
   "cell_type": "code",
   "execution_count": 10,
   "id": "781ad38d",
   "metadata": {},
   "outputs": [
    {
     "data": {
      "text/plain": [
       "['hvfhs_license_num',\n",
       " 'dispatching_base_num',\n",
       " 'pickup_datetime',\n",
       " 'dropoff_datetime',\n",
       " 'PULocationID',\n",
       " 'DOLocationID',\n",
       " 'SR_Flag']"
      ]
     },
     "execution_count": 10,
     "metadata": {},
     "output_type": "execute_result"
    }
   ],
   "source": [
    "df.columns"
   ]
  },
  {
   "cell_type": "markdown",
   "id": "e1acd041",
   "metadata": {},
   "source": [
    "### Q6"
   ]
  },
  {
   "cell_type": "code",
   "execution_count": 11,
   "id": "79b0efef",
   "metadata": {},
   "outputs": [],
   "source": [
    "df_zones = spark.read.parquet('code/zones')"
   ]
  },
  {
   "cell_type": "code",
   "execution_count": 12,
   "id": "8b288271",
   "metadata": {},
   "outputs": [
    {
     "name": "stdout",
     "output_type": "stream",
     "text": [
      "+----------+-------------+--------------------+------------+\n",
      "|LocationID|      Borough|                Zone|service_zone|\n",
      "+----------+-------------+--------------------+------------+\n",
      "|         1|          EWR|      Newark Airport|         EWR|\n",
      "|         2|       Queens|         Jamaica Bay|   Boro Zone|\n",
      "|         3|        Bronx|Allerton/Pelham G...|   Boro Zone|\n",
      "|         4|    Manhattan|       Alphabet City| Yellow Zone|\n",
      "|         5|Staten Island|       Arden Heights|   Boro Zone|\n",
      "|         6|Staten Island|Arrochar/Fort Wad...|   Boro Zone|\n",
      "|         7|       Queens|             Astoria|   Boro Zone|\n",
      "|         8|       Queens|        Astoria Park|   Boro Zone|\n",
      "|         9|       Queens|          Auburndale|   Boro Zone|\n",
      "|        10|       Queens|        Baisley Park|   Boro Zone|\n",
      "|        11|     Brooklyn|          Bath Beach|   Boro Zone|\n",
      "|        12|    Manhattan|        Battery Park| Yellow Zone|\n",
      "|        13|    Manhattan|   Battery Park City| Yellow Zone|\n",
      "|        14|     Brooklyn|           Bay Ridge|   Boro Zone|\n",
      "|        15|       Queens|Bay Terrace/Fort ...|   Boro Zone|\n",
      "|        16|       Queens|             Bayside|   Boro Zone|\n",
      "|        17|     Brooklyn|             Bedford|   Boro Zone|\n",
      "|        18|        Bronx|        Bedford Park|   Boro Zone|\n",
      "|        19|       Queens|           Bellerose|   Boro Zone|\n",
      "|        20|        Bronx|             Belmont|   Boro Zone|\n",
      "+----------+-------------+--------------------+------------+\n",
      "only showing top 20 rows\n",
      "\n"
     ]
    }
   ],
   "source": [
    "df_zones.show()"
   ]
  },
  {
   "cell_type": "code",
   "execution_count": 13,
   "id": "2dab2624",
   "metadata": {},
   "outputs": [
    {
     "name": "stderr",
     "output_type": "stream",
     "text": [
      "/home/ricardo/spark/spark-3.3.1-bin-hadoop3/python/pyspark/sql/dataframe.py:229: FutureWarning: Deprecated in 2.0, use createOrReplaceTempView instead.\n",
      "  warnings.warn(\"Deprecated in 2.0, use createOrReplaceTempView instead.\", FutureWarning)\n"
     ]
    }
   ],
   "source": [
    "df.registerTempTable('fhvhv_2021_02')\n",
    "df_zones.registerTempTable('zones')"
   ]
  },
  {
   "cell_type": "code",
   "execution_count": 23,
   "id": "6ec5d976",
   "metadata": {},
   "outputs": [
    {
     "ename": "ParseException",
     "evalue": "\nSyntax error at or near 'COUNT'(line 4, pos 4)\n\n== SQL ==\n\nSELECT\n    CONCAT(pul.Zone, ' / ', dol.Zone) AS location_pair\n    COUNT(1)\n----^^^\nFROM \n    fhvhv_2021_02 fhv LEFT JOIN zones pul ON fhv.PULocationID = pul.LocationID\n                      LEFT JOIN zones dol ON fhv.PULocationID = dol.LocationID\nGROUP BY \n  1\nORDER BY\n 2 DESC\nLIMIT 5;\n",
     "output_type": "error",
     "traceback": [
      "\u001b[0;31m---------------------------------------------------------------------------\u001b[0m",
      "\u001b[0;31mParseException\u001b[0m                            Traceback (most recent call last)",
      "\u001b[0;32m<ipython-input-23-23e89f6917f3>\u001b[0m in \u001b[0;36m<module>\u001b[0;34m\u001b[0m\n\u001b[0;32m----> 1\u001b[0;31m spark.sql(\"\"\"\n\u001b[0m\u001b[1;32m      2\u001b[0m \u001b[0mSELECT\u001b[0m\u001b[0;34m\u001b[0m\u001b[0;34m\u001b[0m\u001b[0m\n\u001b[1;32m      3\u001b[0m     \u001b[0mCONCAT\u001b[0m\u001b[0;34m(\u001b[0m\u001b[0mpul\u001b[0m\u001b[0;34m.\u001b[0m\u001b[0mZone\u001b[0m\u001b[0;34m,\u001b[0m \u001b[0;34m' / '\u001b[0m\u001b[0;34m,\u001b[0m \u001b[0mdol\u001b[0m\u001b[0;34m.\u001b[0m\u001b[0mZone\u001b[0m\u001b[0;34m)\u001b[0m \u001b[0mAS\u001b[0m \u001b[0mlocation_pair\u001b[0m\u001b[0;34m\u001b[0m\u001b[0;34m\u001b[0m\u001b[0m\n\u001b[1;32m      4\u001b[0m     \u001b[0mCOUNT\u001b[0m\u001b[0;34m(\u001b[0m\u001b[0;36m1\u001b[0m\u001b[0;34m)\u001b[0m\u001b[0;34m\u001b[0m\u001b[0;34m\u001b[0m\u001b[0m\n\u001b[1;32m      5\u001b[0m \u001b[0mFROM\u001b[0m\u001b[0;34m\u001b[0m\u001b[0;34m\u001b[0m\u001b[0m\n",
      "\u001b[0;32m~/spark/spark-3.3.1-bin-hadoop3/python/pyspark/sql/session.py\u001b[0m in \u001b[0;36msql\u001b[0;34m(self, sqlQuery, **kwargs)\u001b[0m\n\u001b[1;32m   1032\u001b[0m             \u001b[0msqlQuery\u001b[0m \u001b[0;34m=\u001b[0m \u001b[0mformatter\u001b[0m\u001b[0;34m.\u001b[0m\u001b[0mformat\u001b[0m\u001b[0;34m(\u001b[0m\u001b[0msqlQuery\u001b[0m\u001b[0;34m,\u001b[0m \u001b[0;34m**\u001b[0m\u001b[0mkwargs\u001b[0m\u001b[0;34m)\u001b[0m\u001b[0;34m\u001b[0m\u001b[0;34m\u001b[0m\u001b[0m\n\u001b[1;32m   1033\u001b[0m         \u001b[0;32mtry\u001b[0m\u001b[0;34m:\u001b[0m\u001b[0;34m\u001b[0m\u001b[0;34m\u001b[0m\u001b[0m\n\u001b[0;32m-> 1034\u001b[0;31m             \u001b[0;32mreturn\u001b[0m \u001b[0mDataFrame\u001b[0m\u001b[0;34m(\u001b[0m\u001b[0mself\u001b[0m\u001b[0;34m.\u001b[0m\u001b[0m_jsparkSession\u001b[0m\u001b[0;34m.\u001b[0m\u001b[0msql\u001b[0m\u001b[0;34m(\u001b[0m\u001b[0msqlQuery\u001b[0m\u001b[0;34m)\u001b[0m\u001b[0;34m,\u001b[0m \u001b[0mself\u001b[0m\u001b[0;34m)\u001b[0m\u001b[0;34m\u001b[0m\u001b[0;34m\u001b[0m\u001b[0m\n\u001b[0m\u001b[1;32m   1035\u001b[0m         \u001b[0;32mfinally\u001b[0m\u001b[0;34m:\u001b[0m\u001b[0;34m\u001b[0m\u001b[0;34m\u001b[0m\u001b[0m\n\u001b[1;32m   1036\u001b[0m             \u001b[0;32mif\u001b[0m \u001b[0mlen\u001b[0m\u001b[0;34m(\u001b[0m\u001b[0mkwargs\u001b[0m\u001b[0;34m)\u001b[0m \u001b[0;34m>\u001b[0m \u001b[0;36m0\u001b[0m\u001b[0;34m:\u001b[0m\u001b[0;34m\u001b[0m\u001b[0;34m\u001b[0m\u001b[0m\n",
      "\u001b[0;32m~/spark/spark-3.3.1-bin-hadoop3/python/lib/py4j-0.10.9.5-src.zip/py4j/java_gateway.py\u001b[0m in \u001b[0;36m__call__\u001b[0;34m(self, *args)\u001b[0m\n\u001b[1;32m   1319\u001b[0m \u001b[0;34m\u001b[0m\u001b[0m\n\u001b[1;32m   1320\u001b[0m         \u001b[0manswer\u001b[0m \u001b[0;34m=\u001b[0m \u001b[0mself\u001b[0m\u001b[0;34m.\u001b[0m\u001b[0mgateway_client\u001b[0m\u001b[0;34m.\u001b[0m\u001b[0msend_command\u001b[0m\u001b[0;34m(\u001b[0m\u001b[0mcommand\u001b[0m\u001b[0;34m)\u001b[0m\u001b[0;34m\u001b[0m\u001b[0;34m\u001b[0m\u001b[0m\n\u001b[0;32m-> 1321\u001b[0;31m         return_value = get_return_value(\n\u001b[0m\u001b[1;32m   1322\u001b[0m             answer, self.gateway_client, self.target_id, self.name)\n\u001b[1;32m   1323\u001b[0m \u001b[0;34m\u001b[0m\u001b[0m\n",
      "\u001b[0;32m~/spark/spark-3.3.1-bin-hadoop3/python/pyspark/sql/utils.py\u001b[0m in \u001b[0;36mdeco\u001b[0;34m(*a, **kw)\u001b[0m\n\u001b[1;32m    194\u001b[0m                 \u001b[0;31m# Hide where the exception came from that shows a non-Pythonic\u001b[0m\u001b[0;34m\u001b[0m\u001b[0;34m\u001b[0m\u001b[0;34m\u001b[0m\u001b[0m\n\u001b[1;32m    195\u001b[0m                 \u001b[0;31m# JVM exception message.\u001b[0m\u001b[0;34m\u001b[0m\u001b[0;34m\u001b[0m\u001b[0;34m\u001b[0m\u001b[0m\n\u001b[0;32m--> 196\u001b[0;31m                 \u001b[0;32mraise\u001b[0m \u001b[0mconverted\u001b[0m \u001b[0;32mfrom\u001b[0m \u001b[0;32mNone\u001b[0m\u001b[0;34m\u001b[0m\u001b[0;34m\u001b[0m\u001b[0m\n\u001b[0m\u001b[1;32m    197\u001b[0m             \u001b[0;32melse\u001b[0m\u001b[0;34m:\u001b[0m\u001b[0;34m\u001b[0m\u001b[0;34m\u001b[0m\u001b[0m\n\u001b[1;32m    198\u001b[0m                 \u001b[0;32mraise\u001b[0m\u001b[0;34m\u001b[0m\u001b[0;34m\u001b[0m\u001b[0m\n",
      "\u001b[0;31mParseException\u001b[0m: \nSyntax error at or near 'COUNT'(line 4, pos 4)\n\n== SQL ==\n\nSELECT\n    CONCAT(pul.Zone, ' / ', dol.Zone) AS location_pair\n    COUNT(1)\n----^^^\nFROM \n    fhvhv_2021_02 fhv LEFT JOIN zones pul ON fhv.PULocationID = pul.LocationID\n                      LEFT JOIN zones dol ON fhv.PULocationID = dol.LocationID\nGROUP BY \n  1\nORDER BY\n 2 DESC\nLIMIT 5;\n"
     ]
    }
   ],
   "source": [
    "spark.sql(\"\"\"\n",
    "SELECT\n",
    "    CONCAT(pul.Zone, ' / ', dol.Zone) AS location_pair\n",
    "    COUNT(1)\n",
    "FROM \n",
    "    fhvhv_2021_02 fhv LEFT JOIN zones pul ON fhv.PULocationID = pul.LocationID\n",
    "                      LEFT JOIN zones dol ON fhv.PULocationID = dol.LocationID\n",
    "GROUP BY \n",
    "  1\n",
    "ORDER BY\n",
    " 2 DESC\n",
    "LIMIT 5;\n",
    "\"\"\").show()"
   ]
  },
  {
   "cell_type": "code",
   "execution_count": null,
   "id": "98de9a49",
   "metadata": {},
   "outputs": [],
   "source": []
  }
 ],
 "metadata": {
  "kernelspec": {
   "display_name": "Python 3",
   "language": "python",
   "name": "python3"
  },
  "language_info": {
   "codemirror_mode": {
    "name": "ipython",
    "version": 3
   },
   "file_extension": ".py",
   "mimetype": "text/x-python",
   "name": "python",
   "nbconvert_exporter": "python",
   "pygments_lexer": "ipython3",
   "version": "3.8.8"
  }
 },
 "nbformat": 4,
 "nbformat_minor": 5
}
