{
 "cells": [
  {
   "cell_type": "code",
   "execution_count": 141,
   "id": "8c2fbe80-4f5d-4345-b319-ab5669925328",
   "metadata": {},
   "outputs": [],
   "source": [
    "import pyspark\n",
    "from pyspark.sql import SparkSession, types"
   ]
  },
  {
   "cell_type": "markdown",
   "id": "c2170968-d183-4c8a-903c-e7317d1b1f5a",
   "metadata": {},
   "source": [
    "<h1>Question 1. Install Spark and PySpark</h1>\n",
    "\n",
    "- Install Spark\n",
    "- Run PySpark\n",
    "- Create a local spark session\n",
    "- Execute spark.version\n",
    "\n",
    "What's the output?"
   ]
  },
  {
   "cell_type": "code",
   "execution_count": 142,
   "id": "aaba4a7d-b1dd-48d8-a96a-e4eecc7d6973",
   "metadata": {},
   "outputs": [],
   "source": [
    "spark = SparkSession.builder.master(\"local[*]\").appName('homework').getOrCreate()"
   ]
  },
  {
   "cell_type": "code",
   "execution_count": 8,
   "id": "f15cc369-d871-4db3-8bb8-dc1e7b8b8484",
   "metadata": {},
   "outputs": [
    {
     "data": {
      "text/plain": [
       "'3.3.1'"
      ]
     },
     "execution_count": 10,
     "metadata": {},
     "output_type": "execute_result"
    }
   ],
   "source": [
    "spark.version"
   ]
  },
  {
   "cell_type": "markdown",
   "id": "2fc1574d-ee63-4f9d-9718-14216080bc75",
   "metadata": {},
   "source": [
    "<h1>Question 2. HVFHW February 2021</h1>\n",
    "\n",
    "Download the HVFHV data for february 2021:\n",
    "\n",
    "```\n",
    "wget https://nyc-tlc.s3.amazonaws.com/trip+data/fhvhv_tripdata_2021-02.csv\n",
    "```\n",
    "\n",
    "Read it with Spark using the same schema as we did in the lessons. We will use this dataset for all the remaining questions.\n",
    "\n",
    "Repartition it to 24 partitions and save it to parquet.\n",
    "\n",
    "What's the size of the folder with results (in MB)?"
   ]
  },
  {
   "cell_type": "code",
   "execution_count": 12,
   "id": "4c7fef15-1968-49c2-914e-f33dafc1fff6",
   "metadata": {},
   "outputs": [
    {
     "name": "stdout",
     "output_type": "stream",
     "text": [
      "--2022-12-02 12:26:20--  https://d37ci6vzurychx.cloudfront.net/trip-data/fhv_tripdata_2021-02.parquet\n",
      "Resolving d37ci6vzurychx.cloudfront.net (d37ci6vzurychx.cloudfront.net)... 52.85.6.219, 52.85.6.129, 52.85.6.201, ...\n",
      "Connecting to d37ci6vzurychx.cloudfront.net (d37ci6vzurychx.cloudfront.net)|52.85.6.219|:443... connected.\n",
      "HTTP request sent, awaiting response... 200 OK\n",
      "Length: 10645466 (10M) [binary/octet-stream]\n",
      "Saving to: ‘fhv_tripdata_2021-02.parquet’\n",
      "\n",
      "fhv_tripdata_2021-0 100%[===================>]  10.15M  24.0MB/s    in 0.4s    \n",
      "\n",
      "2022-12-02 12:26:21 (24.0 MB/s) - ‘fhv_tripdata_2021-02.parquet’ saved [10645466/10645466]\n",
      "\n"
     ]
    }
   ],
   "source": [
    "!wget https://d37ci6vzurychx.cloudfront.net/trip-data/fhv_tripdata_2021-02.parquet"
   ]
  },
  {
   "cell_type": "code",
   "execution_count": 143,
   "id": "3fe87aa9-b062-41a9-b1b3-dc6fb0ed1f48",
   "metadata": {},
   "outputs": [],
   "source": [
    "schema = types.StructType([\n",
    "    types.StructField('dispatching_base_num', types.StringType(), True),\n",
    "    types.StructField('Affiliated_base_number', types.StringType(), True),\n",
    "    types.StructField('pickup_datetime', types.TimestampType(), True),\n",
    "    types.StructField('dropOff_datetime', types.TimestampType(), True),\n",
    "    types.StructField('PULocationID', types.DoubleType(), True),\n",
    "    types.StructField('DOLocationID', types.DoubleType(), True),\n",
    "    types.StructField('SR_Flag', types.IntegerType(), True),\n",
    "])"
   ]
  },
  {
   "cell_type": "code",
   "execution_count": 144,
   "id": "f9596dc4-cba0-487a-9620-86d5dcca74fc",
   "metadata": {},
   "outputs": [],
   "source": [
    "df = spark.read.schema(schema).parquet(\"fhv_tripdata_2021-02.parquet\")"
   ]
  },
  {
   "cell_type": "code",
   "execution_count": 145,
   "id": "8cba2ebe-9565-47b6-8e35-d57439693f6a",
   "metadata": {},
   "outputs": [
    {
     "name": "stdout",
     "output_type": "stream",
     "text": [
      "+--------------------+----------------------+-------------------+-------------------+------------+------------+-------+\n",
      "|dispatching_base_num|Affiliated_base_number|    pickup_datetime|   dropOff_datetime|PULocationID|DOLocationID|SR_Flag|\n",
      "+--------------------+----------------------+-------------------+-------------------+------------+------------+-------+\n",
      "|              B00013|                B00014|2021-02-01 01:01:00|2021-02-01 02:33:00|        null|        null|   null|\n",
      "|     B00021         |       B00021         |2021-02-01 01:55:40|2021-02-01 02:06:20|       173.0|        82.0|   null|\n",
      "|     B00021         |       B00021         |2021-02-01 01:14:03|2021-02-01 01:28:37|       173.0|        56.0|   null|\n",
      "|     B00021         |       B00021         |2021-02-01 01:27:48|2021-02-01 01:35:45|        82.0|       129.0|   null|\n",
      "|              B00037|                B00037|2021-02-01 01:12:50|2021-02-01 01:26:38|        null|       225.0|   null|\n",
      "|              B00037|                B00037|2021-02-01 01:00:37|2021-02-01 01:09:35|        null|        61.0|   null|\n",
      "|              B00112|                B00112|2021-02-01 01:30:25|2021-02-01 01:57:23|        null|        26.0|   null|\n",
      "|              B00149|                B00149|2021-02-01 01:43:16|2021-02-01 02:03:16|        null|        72.0|   null|\n",
      "|              B00221|                B00221|2021-02-01 01:20:45|2021-02-01 01:21:15|        null|       244.0|   null|\n",
      "|              B00225|                B00225|2021-02-01 01:23:27|2021-02-01 01:55:46|        null|       169.0|   null|\n",
      "|              B00225|                B02872|2021-02-01 01:10:38|2021-02-01 01:50:15|        null|       161.0|   null|\n",
      "|              B00254|                B00254|2021-02-01 01:05:46|2021-02-01 01:40:41|        13.0|       182.0|   null|\n",
      "|              B00254|                B02872|2021-02-01 01:14:25|2021-02-01 01:24:56|       152.0|       244.0|   null|\n",
      "|              B00256|                B00256|2021-02-01 01:30:43|2021-02-01 02:32:39|        null|        null|   null|\n",
      "|              B00256|                B00256|2021-02-01 01:39:11|2021-02-01 02:18:44|        null|        null|   null|\n",
      "|              B00256|                B00256|2021-02-01 01:33:24|2021-02-01 02:23:44|        null|        null|   null|\n",
      "|              B00256|                B00256|2021-02-01 01:05:19|2021-02-01 01:24:40|        null|        null|   null|\n",
      "|              B00271|                B00271|2021-02-01 01:04:07|2021-02-01 02:03:03|        null|       265.0|   null|\n",
      "|              B00271|                B00271|2021-02-01 01:07:13|2021-02-01 01:08:49|        null|       237.0|   null|\n",
      "|              B00310|                B00310|2021-02-01 01:11:21|2021-02-01 01:15:44|        null|       248.0|   null|\n",
      "+--------------------+----------------------+-------------------+-------------------+------------+------------+-------+\n",
      "only showing top 20 rows\n",
      "\n"
     ]
    }
   ],
   "source": [
    "df.show()"
   ]
  },
  {
   "cell_type": "code",
   "execution_count": 40,
   "id": "20049669-522a-4172-bd17-ee420cb1c795",
   "metadata": {},
   "outputs": [
    {
     "data": {
      "text/plain": [
       "StructType([StructField('dispatching_base_num', StringType(), True), StructField('Affiliated_base_number', StringType(), True), StructField('pickup_datetime', TimestampType(), True), StructField('dropOff_datetime', TimestampType(), True), StructField('PULocationID', DoubleType(), True), StructField('DOLocationID', DoubleType(), True), StructField('SR_Flag', IntegerType(), True)])"
      ]
     },
     "execution_count": 40,
     "metadata": {},
     "output_type": "execute_result"
    }
   ],
   "source": [
    "df.schema"
   ]
  },
  {
   "cell_type": "code",
   "execution_count": 146,
   "id": "efa8840b-41bd-495b-893e-3c735ceae19d",
   "metadata": {},
   "outputs": [],
   "source": [
    "df_types_cast = df \\\n",
    ".withColumn(\"PULocationID\", df[\"PULocationID\"].cast(types.IntegerType())) \\\n",
    ".withColumn(\"DOLocationID\", df[\"DOLocationID\"].cast(types.IntegerType()))"
   ]
  },
  {
   "cell_type": "code",
   "execution_count": 147,
   "id": "4dc9fbac-6e3f-4742-97da-2ca807861c3b",
   "metadata": {},
   "outputs": [
    {
     "data": {
      "text/plain": [
       "StructType([StructField('dispatching_base_num', StringType(), True), StructField('Affiliated_base_number', StringType(), True), StructField('pickup_datetime', TimestampType(), True), StructField('dropOff_datetime', TimestampType(), True), StructField('PULocationID', IntegerType(), True), StructField('DOLocationID', IntegerType(), True), StructField('SR_Flag', IntegerType(), True)])"
      ]
     },
     "execution_count": 147,
     "metadata": {},
     "output_type": "execute_result"
    }
   ],
   "source": [
    "df_types_cast.schema"
   ]
  },
  {
   "cell_type": "code",
   "execution_count": 148,
   "id": "f8984a62-c5c8-4cc3-9150-1f7900f91e34",
   "metadata": {},
   "outputs": [
    {
     "name": "stdout",
     "output_type": "stream",
     "text": [
      "+--------------------+----------------------+-------------------+-------------------+------------+------------+-------+\n",
      "|dispatching_base_num|Affiliated_base_number|    pickup_datetime|   dropOff_datetime|PULocationID|DOLocationID|SR_Flag|\n",
      "+--------------------+----------------------+-------------------+-------------------+------------+------------+-------+\n",
      "|              B00013|                B00014|2021-02-01 01:01:00|2021-02-01 02:33:00|        null|        null|   null|\n",
      "|     B00021         |       B00021         |2021-02-01 01:55:40|2021-02-01 02:06:20|         173|          82|   null|\n",
      "|     B00021         |       B00021         |2021-02-01 01:14:03|2021-02-01 01:28:37|         173|          56|   null|\n",
      "|     B00021         |       B00021         |2021-02-01 01:27:48|2021-02-01 01:35:45|          82|         129|   null|\n",
      "|              B00037|                B00037|2021-02-01 01:12:50|2021-02-01 01:26:38|        null|         225|   null|\n",
      "|              B00037|                B00037|2021-02-01 01:00:37|2021-02-01 01:09:35|        null|          61|   null|\n",
      "|              B00112|                B00112|2021-02-01 01:30:25|2021-02-01 01:57:23|        null|          26|   null|\n",
      "|              B00149|                B00149|2021-02-01 01:43:16|2021-02-01 02:03:16|        null|          72|   null|\n",
      "|              B00221|                B00221|2021-02-01 01:20:45|2021-02-01 01:21:15|        null|         244|   null|\n",
      "|              B00225|                B00225|2021-02-01 01:23:27|2021-02-01 01:55:46|        null|         169|   null|\n",
      "|              B00225|                B02872|2021-02-01 01:10:38|2021-02-01 01:50:15|        null|         161|   null|\n",
      "|              B00254|                B00254|2021-02-01 01:05:46|2021-02-01 01:40:41|          13|         182|   null|\n",
      "|              B00254|                B02872|2021-02-01 01:14:25|2021-02-01 01:24:56|         152|         244|   null|\n",
      "|              B00256|                B00256|2021-02-01 01:30:43|2021-02-01 02:32:39|        null|        null|   null|\n",
      "|              B00256|                B00256|2021-02-01 01:39:11|2021-02-01 02:18:44|        null|        null|   null|\n",
      "|              B00256|                B00256|2021-02-01 01:33:24|2021-02-01 02:23:44|        null|        null|   null|\n",
      "|              B00256|                B00256|2021-02-01 01:05:19|2021-02-01 01:24:40|        null|        null|   null|\n",
      "|              B00271|                B00271|2021-02-01 01:04:07|2021-02-01 02:03:03|        null|         265|   null|\n",
      "|              B00271|                B00271|2021-02-01 01:07:13|2021-02-01 01:08:49|        null|         237|   null|\n",
      "|              B00310|                B00310|2021-02-01 01:11:21|2021-02-01 01:15:44|        null|         248|   null|\n",
      "+--------------------+----------------------+-------------------+-------------------+------------+------------+-------+\n",
      "only showing top 20 rows\n",
      "\n"
     ]
    }
   ],
   "source": [
    "df_types_cast.show()"
   ]
  },
  {
   "cell_type": "code",
   "execution_count": 46,
   "id": "823ba963-b4e5-4306-a1bb-c1d2fdc0ab65",
   "metadata": {},
   "outputs": [
    {
     "name": "stderr",
     "output_type": "stream",
     "text": [
      "[Stage 18:======================================>                   (2 + 1) / 3]\r"
     ]
    },
    {
     "name": "stdout",
     "output_type": "stream",
     "text": [
      "22/12/02 12:44:47 WARN MemoryManager: Total allocation exceeds 95.00% (906,992,014 bytes) of heap memory\n",
      "Scaling row group sizes to 96.54% for 7 writers\n",
      "22/12/02 12:44:47 WARN MemoryManager: Total allocation exceeds 95.00% (906,992,014 bytes) of heap memory\n",
      "Scaling row group sizes to 84.47% for 8 writers\n"
     ]
    },
    {
     "name": "stderr",
     "output_type": "stream",
     "text": [
      "[Stage 20:>                                                        (0 + 8) / 24]\r"
     ]
    },
    {
     "name": "stdout",
     "output_type": "stream",
     "text": [
      "22/12/02 12:44:48 WARN MemoryManager: Total allocation exceeds 95.00% (906,992,014 bytes) of heap memory\n",
      "Scaling row group sizes to 96.54% for 7 writers\n",
      "22/12/02 12:44:48 WARN MemoryManager: Total allocation exceeds 95.00% (906,992,014 bytes) of heap memory\n",
      "Scaling row group sizes to 96.54% for 7 writers\n",
      "22/12/02 12:44:48 WARN MemoryManager: Total allocation exceeds 95.00% (906,992,014 bytes) of heap memory\n",
      "Scaling row group sizes to 84.47% for 8 writers\n"
     ]
    },
    {
     "name": "stderr",
     "output_type": "stream",
     "text": [
      "[Stage 20:===================>                                     (8 + 8) / 24]\r"
     ]
    },
    {
     "name": "stdout",
     "output_type": "stream",
     "text": [
      "22/12/02 12:44:49 WARN MemoryManager: Total allocation exceeds 95.00% (906,992,014 bytes) of heap memory\n",
      "Scaling row group sizes to 96.54% for 7 writers\n"
     ]
    },
    {
     "name": "stderr",
     "output_type": "stream",
     "text": [
      "[Stage 20:=====================================>                  (16 + 8) / 24]\r"
     ]
    },
    {
     "name": "stdout",
     "output_type": "stream",
     "text": [
      "22/12/02 12:44:49 WARN MemoryManager: Total allocation exceeds 95.00% (906,992,014 bytes) of heap memory\n",
      "Scaling row group sizes to 96.54% for 7 writers\n",
      "22/12/02 12:44:49 WARN MemoryManager: Total allocation exceeds 95.00% (906,992,014 bytes) of heap memory\n",
      "Scaling row group sizes to 84.47% for 8 writers\n",
      "22/12/02 12:44:49 WARN MemoryManager: Total allocation exceeds 95.00% (906,992,014 bytes) of heap memory\n",
      "Scaling row group sizes to 96.54% for 7 writers\n"
     ]
    },
    {
     "name": "stderr",
     "output_type": "stream",
     "text": [
      "                                                                                \r"
     ]
    }
   ],
   "source": [
    "output_path = \"fhv_tripdata_2021_02_repartitioned\"\n",
    "df_types_cast.repartition(24).write.parquet(output_path)"
   ]
  },
  {
   "cell_type": "code",
   "execution_count": 52,
   "id": "2361c367-e4ba-4bda-8ce0-770903d99e65",
   "metadata": {},
   "outputs": [],
   "source": [
    "import os\n",
    "from pathlib import Path"
   ]
  },
  {
   "cell_type": "code",
   "execution_count": 50,
   "id": "9cc5df6d-a4b9-48e6-8f5f-508bcef664f0",
   "metadata": {},
   "outputs": [
    {
     "data": {
      "text/plain": [
       "10.152307510375977"
      ]
     },
     "execution_count": 50,
     "metadata": {},
     "output_type": "execute_result"
    }
   ],
   "source": [
    "os.path.getsize(\"fhv_tripdata_2021-02.parquet\") / 1024 / 1024"
   ]
  },
  {
   "cell_type": "code",
   "execution_count": 54,
   "id": "fb21cfe6-6168-4b2e-b212-dde36607b4b0",
   "metadata": {},
   "outputs": [
    {
     "data": {
      "text/plain": [
       "23.33998203277588"
      ]
     },
     "execution_count": 54,
     "metadata": {},
     "output_type": "execute_result"
    }
   ],
   "source": [
    "sum(file.stat().st_size for file in Path(output_path).rglob('*')) / 1024 / 1024"
   ]
  },
  {
   "cell_type": "markdown",
   "id": "4d73d577-94af-4dd3-8fe7-4c639c244b62",
   "metadata": {},
   "source": [
    "<h1>Question 3. Count records</h1>\n",
    "\n",
    "How many taxi trips were there on February 15?\n",
    "\n",
    "Consider only trips that started on February 15."
   ]
  },
  {
   "cell_type": "code",
   "execution_count": 58,
   "id": "34aa5f48-52b8-4178-956a-f809ea6edf79",
   "metadata": {},
   "outputs": [],
   "source": [
    "from pyspark.sql import functions as F"
   ]
  },
  {
   "cell_type": "code",
   "execution_count": 63,
   "id": "5cf23110-0ccd-4b1b-af1c-895e6f6f1884",
   "metadata": {},
   "outputs": [
    {
     "data": {
      "text/plain": [
       "35001"
      ]
     },
     "execution_count": 63,
     "metadata": {},
     "output_type": "execute_result"
    }
   ],
   "source": [
    "df_types_cast.select().filter(F.date_trunc('day', df_types_cast.pickup_datetime) == \"2021-02-15 00:00:00\").count()"
   ]
  },
  {
   "cell_type": "code",
   "execution_count": 149,
   "id": "496ed130-89ed-4d2c-85eb-fe5b38685dc2",
   "metadata": {},
   "outputs": [],
   "source": [
    "df_types_cast.createOrReplaceTempView(\"fhv_feb\")"
   ]
  },
  {
   "cell_type": "code",
   "execution_count": 150,
   "id": "7ab02ccc-9b82-4437-9e38-9fb4f62cc8e5",
   "metadata": {},
   "outputs": [
    {
     "name": "stdout",
     "output_type": "stream",
     "text": [
      "+-----+\n",
      "|count|\n",
      "+-----+\n",
      "|35001|\n",
      "+-----+\n",
      "\n"
     ]
    }
   ],
   "source": [
    "spark.sql(\"\"\"\n",
    "SELECT \n",
    "    count(*) as count\n",
    "FROM\n",
    "    fhv_feb\n",
    "WHERE\n",
    "    date_trunc('day', fhv_feb.pickup_datetime) == '2021-02-15 00:00:00'\n",
    "\"\"\").show()"
   ]
  },
  {
   "cell_type": "markdown",
   "id": "5f77a51a-367a-4336-b947-a43d393b20cb",
   "metadata": {},
   "source": [
    "<h1>Question 4. Longest trip for each day</h1>\n",
    "\n",
    "Now calculate the duration for each trip.\n",
    "\n",
    "Trip starting on which day was the longest?"
   ]
  },
  {
   "cell_type": "code",
   "execution_count": 151,
   "id": "49f2fee6-ed44-4963-bb74-aece1807dcc7",
   "metadata": {},
   "outputs": [],
   "source": [
    "df_duration = df_types_cast \\\n",
    ".withColumn('pickup_datetime_day', F.date_trunc('day', df_types_cast.pickup_datetime)) \\\n",
    ".withColumn('pickup_datetime_ts', F.to_timestamp(F.col('pickup_datetime'))) \\\n",
    ".withColumn('dropOff_datetime_ts', F.to_timestamp(F.col('dropOff_datetime'))) \\\n",
    ".withColumn('trip_duration_seconds', (F.col(\"dropOff_datetime_ts\").cast(\"long\") - F.col(\"pickup_datetime_ts\").cast(\"long\")))"
   ]
  },
  {
   "cell_type": "code",
   "execution_count": 152,
   "id": "e37cbbb4-a7a1-4f69-9f26-7d4ac986fb51",
   "metadata": {},
   "outputs": [
    {
     "name": "stdout",
     "output_type": "stream",
     "text": [
      "+--------------------+----------------------+-------------------+-------------------+------------+------------+-------+-------------------+-------------------+-------------------+---------------------+\n",
      "|dispatching_base_num|Affiliated_base_number|    pickup_datetime|   dropOff_datetime|PULocationID|DOLocationID|SR_Flag|pickup_datetime_day| pickup_datetime_ts|dropOff_datetime_ts|trip_duration_seconds|\n",
      "+--------------------+----------------------+-------------------+-------------------+------------+------------+-------+-------------------+-------------------+-------------------+---------------------+\n",
      "|              B00013|                B00014|2021-02-01 01:01:00|2021-02-01 02:33:00|        null|        null|   null|2021-02-01 00:00:00|2021-02-01 01:01:00|2021-02-01 02:33:00|                 5520|\n",
      "|     B00021         |       B00021         |2021-02-01 01:55:40|2021-02-01 02:06:20|         173|          82|   null|2021-02-01 00:00:00|2021-02-01 01:55:40|2021-02-01 02:06:20|                  640|\n",
      "|     B00021         |       B00021         |2021-02-01 01:14:03|2021-02-01 01:28:37|         173|          56|   null|2021-02-01 00:00:00|2021-02-01 01:14:03|2021-02-01 01:28:37|                  874|\n",
      "|     B00021         |       B00021         |2021-02-01 01:27:48|2021-02-01 01:35:45|          82|         129|   null|2021-02-01 00:00:00|2021-02-01 01:27:48|2021-02-01 01:35:45|                  477|\n",
      "|              B00037|                B00037|2021-02-01 01:12:50|2021-02-01 01:26:38|        null|         225|   null|2021-02-01 00:00:00|2021-02-01 01:12:50|2021-02-01 01:26:38|                  828|\n",
      "|              B00037|                B00037|2021-02-01 01:00:37|2021-02-01 01:09:35|        null|          61|   null|2021-02-01 00:00:00|2021-02-01 01:00:37|2021-02-01 01:09:35|                  538|\n",
      "|              B00112|                B00112|2021-02-01 01:30:25|2021-02-01 01:57:23|        null|          26|   null|2021-02-01 00:00:00|2021-02-01 01:30:25|2021-02-01 01:57:23|                 1618|\n",
      "|              B00149|                B00149|2021-02-01 01:43:16|2021-02-01 02:03:16|        null|          72|   null|2021-02-01 00:00:00|2021-02-01 01:43:16|2021-02-01 02:03:16|                 1200|\n",
      "|              B00221|                B00221|2021-02-01 01:20:45|2021-02-01 01:21:15|        null|         244|   null|2021-02-01 00:00:00|2021-02-01 01:20:45|2021-02-01 01:21:15|                   30|\n",
      "|              B00225|                B00225|2021-02-01 01:23:27|2021-02-01 01:55:46|        null|         169|   null|2021-02-01 00:00:00|2021-02-01 01:23:27|2021-02-01 01:55:46|                 1939|\n",
      "|              B00225|                B02872|2021-02-01 01:10:38|2021-02-01 01:50:15|        null|         161|   null|2021-02-01 00:00:00|2021-02-01 01:10:38|2021-02-01 01:50:15|                 2377|\n",
      "|              B00254|                B00254|2021-02-01 01:05:46|2021-02-01 01:40:41|          13|         182|   null|2021-02-01 00:00:00|2021-02-01 01:05:46|2021-02-01 01:40:41|                 2095|\n",
      "|              B00254|                B02872|2021-02-01 01:14:25|2021-02-01 01:24:56|         152|         244|   null|2021-02-01 00:00:00|2021-02-01 01:14:25|2021-02-01 01:24:56|                  631|\n",
      "|              B00256|                B00256|2021-02-01 01:30:43|2021-02-01 02:32:39|        null|        null|   null|2021-02-01 00:00:00|2021-02-01 01:30:43|2021-02-01 02:32:39|                 3716|\n",
      "|              B00256|                B00256|2021-02-01 01:39:11|2021-02-01 02:18:44|        null|        null|   null|2021-02-01 00:00:00|2021-02-01 01:39:11|2021-02-01 02:18:44|                 2373|\n",
      "|              B00256|                B00256|2021-02-01 01:33:24|2021-02-01 02:23:44|        null|        null|   null|2021-02-01 00:00:00|2021-02-01 01:33:24|2021-02-01 02:23:44|                 3020|\n",
      "|              B00256|                B00256|2021-02-01 01:05:19|2021-02-01 01:24:40|        null|        null|   null|2021-02-01 00:00:00|2021-02-01 01:05:19|2021-02-01 01:24:40|                 1161|\n",
      "|              B00271|                B00271|2021-02-01 01:04:07|2021-02-01 02:03:03|        null|         265|   null|2021-02-01 00:00:00|2021-02-01 01:04:07|2021-02-01 02:03:03|                 3536|\n",
      "|              B00271|                B00271|2021-02-01 01:07:13|2021-02-01 01:08:49|        null|         237|   null|2021-02-01 00:00:00|2021-02-01 01:07:13|2021-02-01 01:08:49|                   96|\n",
      "|              B00310|                B00310|2021-02-01 01:11:21|2021-02-01 01:15:44|        null|         248|   null|2021-02-01 00:00:00|2021-02-01 01:11:21|2021-02-01 01:15:44|                  263|\n",
      "+--------------------+----------------------+-------------------+-------------------+------------+------------+-------+-------------------+-------------------+-------------------+---------------------+\n",
      "only showing top 20 rows\n",
      "\n"
     ]
    }
   ],
   "source": [
    "df_duration.show()"
   ]
  },
  {
   "cell_type": "code",
   "execution_count": 153,
   "id": "42e1b7e1-b830-4a44-b08b-8cc39ccf324b",
   "metadata": {},
   "outputs": [],
   "source": [
    "df_duration.createOrReplaceTempView(\"fhv_trip_duration\")"
   ]
  },
  {
   "cell_type": "code",
   "execution_count": 154,
   "id": "f49ee7b4-460d-4317-a91b-86fd55c38351",
   "metadata": {},
   "outputs": [
    {
     "name": "stdout",
     "output_type": "stream",
     "text": [
      "+-------------------+-------------------+-------------------+-------------------+\n",
      "|    pickup_datetime|   dropOff_datetime|pickup_datetime_day|trip_duration_hours|\n",
      "+-------------------+-------------------+-------------------+-------------------+\n",
      "|2021-02-04 19:45:00|2021-04-22 21:24:00|2021-02-04 00:00:00|            1848.65|\n",
      "+-------------------+-------------------+-------------------+-------------------+\n",
      "\n"
     ]
    }
   ],
   "source": [
    "spark.sql(\"\"\"\n",
    "SELECT \n",
    "    pickup_datetime, dropOff_datetime, pickup_datetime_day, (trip_duration_seconds / 3600) as trip_duration_hours\n",
    "FROM\n",
    "    fhv_trip_duration\n",
    "WHERE\n",
    "    trip_duration_seconds == (SELECT max(trip_duration_seconds) FROM fhv_trip_duration)\n",
    "\"\"\").show()"
   ]
  },
  {
   "cell_type": "markdown",
   "id": "8a2cb4ec-0606-48a2-8606-e29caca9faf1",
   "metadata": {},
   "source": [
    "<h1>Question 5. Most frequent dispatching_base_num</h1>\n",
    "\n",
    "Now find the most frequently occurring dispatching_base_num in this dataset.\n",
    "\n",
    "How many stages this spark job has?\n",
    "\n",
    "Note: the answer may depend on how you write the query, so there are multiple correct answers. Select the one you have."
   ]
  },
  {
   "cell_type": "code",
   "execution_count": 156,
   "id": "46e0afc0-0c5c-4b7b-8e11-7f351f4ecb87",
   "metadata": {},
   "outputs": [
    {
     "name": "stdout",
     "output_type": "stream",
     "text": [
      "+--------------------+-------------+\n",
      "|dispatching_base_num|records_count|\n",
      "+--------------------+-------------+\n",
      "|              B00856|        35077|\n",
      "+--------------------+-------------+\n",
      "\n"
     ]
    }
   ],
   "source": [
    "spark.sql(\"\"\"\n",
    "SELECT \n",
    "    dispatching_base_num, count(*) as records_count\n",
    "FROM\n",
    "    fhv_feb\n",
    "GROUP BY\n",
    "    fhv_feb.dispatching_base_num\n",
    "ORDER BY records_count DESC\n",
    "LIMIT 1\n",
    "\"\"\").show()"
   ]
  },
  {
   "cell_type": "markdown",
   "id": "462b3400-3047-4fc6-84cd-67b08787223f",
   "metadata": {},
   "source": [
    "Two stages."
   ]
  },
  {
   "cell_type": "markdown",
   "id": "314d090a-0d81-41fa-a403-6d0c1f72e1cd",
   "metadata": {},
   "source": [
    "<h1>Question 6. Most common locations pair</h1>\n",
    "\n",
    "Find the most common pickup-dropoff pair.\n",
    "\n",
    "For example:\n",
    "\n",
    "\"Jamaica Bay / Clinton East\"\n",
    "\n",
    "Enter two zone names separated by a slash\n",
    "\n",
    "If any of the zone names are unknown (missing), use \"Unknown\". For example, \"Unknown / Clinton East\"."
   ]
  },
  {
   "cell_type": "code",
   "execution_count": 162,
   "id": "5a70901e-18d6-4117-9d16-05a8b05667c5",
   "metadata": {},
   "outputs": [
    {
     "name": "stdout",
     "output_type": "stream",
     "text": [
      "+------------+------------+-------------+\n",
      "|PULocationID|DOLocationID|records_count|\n",
      "+------------+------------+-------------+\n",
      "|        null|        null|       139681|\n",
      "|        null|          76|        23303|\n",
      "|        null|         265|        17386|\n",
      "|        null|         217|        16437|\n",
      "|        null|         254|        16071|\n",
      "|        null|          61|        15020|\n",
      "|        null|          17|        14646|\n",
      "|        null|         244|        13113|\n",
      "|        null|          35|        12310|\n",
      "|        null|          26|        12116|\n",
      "|        null|         174|        11537|\n",
      "|        null|          69|        11254|\n",
      "|        null|         242|        11188|\n",
      "|        null|         169|        11082|\n",
      "|        null|         168|        10191|\n",
      "|        null|         235|         9390|\n",
      "|        null|          51|         9174|\n",
      "|        null|          18|         9129|\n",
      "|        null|         188|         9113|\n",
      "|        null|         197|         9075|\n",
      "+------------+------------+-------------+\n",
      "only showing top 20 rows\n",
      "\n"
     ]
    }
   ],
   "source": [
    "spark.sql(\"\"\"\n",
    "SELECT \n",
    "    PULocationID, DOLocationID, count(*) as records_count\n",
    "FROM\n",
    "    fhv_feb\n",
    "GROUP BY\n",
    "    fhv_feb.PULocationID, fhv_feb.DOLocationID\n",
    "ORDER BY records_count DESC\n",
    "LIMIT 100\n",
    "\"\"\").show()"
   ]
  },
  {
   "cell_type": "code",
   "execution_count": 163,
   "id": "00816c7f-5eab-4ec5-ba83-21e391d08366",
   "metadata": {},
   "outputs": [
    {
     "name": "stdout",
     "output_type": "stream",
     "text": [
      "--2022-12-02 14:01:11--  https://d37ci6vzurychx.cloudfront.net/misc/taxi+_zone_lookup.csv\n",
      "Resolving d37ci6vzurychx.cloudfront.net (d37ci6vzurychx.cloudfront.net)... 13.32.11.166, 13.32.11.188, 13.32.11.148, ...\n",
      "Connecting to d37ci6vzurychx.cloudfront.net (d37ci6vzurychx.cloudfront.net)|13.32.11.166|:443... connected.\n",
      "HTTP request sent, awaiting response... 200 OK\n",
      "Length: 12322 (12K) [text/csv]\n",
      "Saving to: ‘taxi+_zone_lookup.csv’\n",
      "\n",
      "taxi+_zone_lookup.c 100%[===================>]  12.03K  --.-KB/s    in 0.001s  \n",
      "\n",
      "2022-12-02 14:01:12 (9.00 MB/s) - ‘taxi+_zone_lookup.csv’ saved [12322/12322]\n",
      "\n"
     ]
    }
   ],
   "source": [
    "!wget https://d37ci6vzurychx.cloudfront.net/misc/taxi+_zone_lookup.csv"
   ]
  },
  {
   "cell_type": "code",
   "execution_count": 167,
   "id": "73281b4c-b82d-4501-9bf8-82137f55f464",
   "metadata": {},
   "outputs": [],
   "source": [
    "df_zones = spark.read.option(\"header\", \"true\").csv(\"taxi+_zone_lookup.csv\")"
   ]
  },
  {
   "cell_type": "code",
   "execution_count": 168,
   "id": "f7d409dd-d1fa-4839-8507-b75d79d02b7d",
   "metadata": {},
   "outputs": [
    {
     "name": "stdout",
     "output_type": "stream",
     "text": [
      "+----------+-------------+--------------------+------------+\n",
      "|LocationID|      Borough|                Zone|service_zone|\n",
      "+----------+-------------+--------------------+------------+\n",
      "|         1|          EWR|      Newark Airport|         EWR|\n",
      "|         2|       Queens|         Jamaica Bay|   Boro Zone|\n",
      "|         3|        Bronx|Allerton/Pelham G...|   Boro Zone|\n",
      "|         4|    Manhattan|       Alphabet City| Yellow Zone|\n",
      "|         5|Staten Island|       Arden Heights|   Boro Zone|\n",
      "|         6|Staten Island|Arrochar/Fort Wad...|   Boro Zone|\n",
      "|         7|       Queens|             Astoria|   Boro Zone|\n",
      "|         8|       Queens|        Astoria Park|   Boro Zone|\n",
      "|         9|       Queens|          Auburndale|   Boro Zone|\n",
      "|        10|       Queens|        Baisley Park|   Boro Zone|\n",
      "|        11|     Brooklyn|          Bath Beach|   Boro Zone|\n",
      "|        12|    Manhattan|        Battery Park| Yellow Zone|\n",
      "|        13|    Manhattan|   Battery Park City| Yellow Zone|\n",
      "|        14|     Brooklyn|           Bay Ridge|   Boro Zone|\n",
      "|        15|       Queens|Bay Terrace/Fort ...|   Boro Zone|\n",
      "|        16|       Queens|             Bayside|   Boro Zone|\n",
      "|        17|     Brooklyn|             Bedford|   Boro Zone|\n",
      "|        18|        Bronx|        Bedford Park|   Boro Zone|\n",
      "|        19|       Queens|           Bellerose|   Boro Zone|\n",
      "|        20|        Bronx|             Belmont|   Boro Zone|\n",
      "+----------+-------------+--------------------+------------+\n",
      "only showing top 20 rows\n",
      "\n"
     ]
    }
   ],
   "source": [
    "df_zones.show()"
   ]
  },
  {
   "cell_type": "code",
   "execution_count": 169,
   "id": "c9810f5d-ad36-41c0-92a4-a60b9c89129b",
   "metadata": {},
   "outputs": [],
   "source": [
    "df_zones.createOrReplaceTempView(\"df_zones\")"
   ]
  },
  {
   "cell_type": "code",
   "execution_count": 179,
   "id": "e7ab7097-4e0d-4089-ab62-a270fa59983f",
   "metadata": {},
   "outputs": [
    {
     "name": "stdout",
     "output_type": "stream",
     "text": [
      "+-----------+--------------------+-------------+\n",
      "|pickup_zone|        dropoff_zone|records_count|\n",
      "+-----------+--------------------+-------------+\n",
      "|       null|                null|       139681|\n",
      "|       null|       East New York|        23303|\n",
      "|       null|                  NA|        17386|\n",
      "|       null|  South Williamsburg|        16437|\n",
      "|       null|Williamsbridge/Ol...|        16071|\n",
      "|       null| Crown Heights North|        15020|\n",
      "|       null|             Bedford|        14646|\n",
      "|       null|Washington Height...|        13113|\n",
      "|       null|         Brownsville|        12310|\n",
      "|       null|        Borough Park|        12116|\n",
      "+-----------+--------------------+-------------+\n",
      "\n"
     ]
    }
   ],
   "source": [
    "spark.sql(\"\"\"\n",
    "SELECT \n",
    "    df_zones.Zone as pickup_zone, zones.Zone as dropoff_zone, records_count \n",
    "FROM\n",
    "    (SELECT PULocationID, DOLocationID, count(*) as records_count FROM fhv_feb GROUP BY fhv_feb.PULocationID, fhv_feb.DOLocationID) AS group_result\n",
    "    LEFT JOIN df_zones ON group_result.PULocationID == df_zones.LocationID LEFT JOIN df_zones as zones ON group_result.DOLocationID == zones.LocationID\n",
    "ORDER BY records_count DESC\n",
    "LIMIT 10\n",
    "\"\"\").show()"
   ]
  },
  {
   "cell_type": "markdown",
   "id": "0604f9d1-58b8-42c6-ac94-fb08cd946810",
   "metadata": {},
   "source": [
    "<h1>Bonus question. Join type</h1>\n",
    "\n",
    "(not graded)\n",
    "\n",
    "For finding the answer to Q6, you'll need to perform a join.\n",
    "\n",
    "What type of join is it?\n",
    "\n",
    "And how many stages your spark job has?"
   ]
  },
  {
   "cell_type": "markdown",
   "id": "e75dabf1-cb31-430e-931e-0103b9356c18",
   "metadata": {},
   "source": [
    "LEFT JOIN / LEFT OUTER JOIN"
   ]
  }
 ],
 "metadata": {
  "kernelspec": {
   "display_name": "venv",
   "language": "python",
   "name": "venv"
  },
  "language_info": {
   "codemirror_mode": {
    "name": "ipython",
    "version": 3
   },
   "file_extension": ".py",
   "mimetype": "text/x-python",
   "name": "python",
   "nbconvert_exporter": "python",
   "pygments_lexer": "ipython3",
   "version": "3.10.8"
  }
 },
 "nbformat": 4,
 "nbformat_minor": 5
}
