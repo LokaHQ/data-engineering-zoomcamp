{
 "cells": [
  {
   "cell_type": "code",
   "execution_count": 1,
   "id": "c07a7748-6280-4dba-bd16-bd7a1ea5bd91",
   "metadata": {},
   "outputs": [],
   "source": [
    "import pyspark\n",
    "from pyspark.sql import SparkSession\n",
    "from pyspark.conf import SparkConf\n",
    "from pyspark.context import SparkContext\n",
    "\n",
    "credentials_location = '/home/jovyan/credentials/google_credentials.json'\n",
    "\n",
    "conf = SparkConf() \\\n",
    "    .setMaster('local[*]') \\\n",
    "    .setAppName('test') \\\n",
    "    .set(\"spark.jars\", \"/home/jovyan/lib/gcs-connector-hadoop3-latest.jar,/home/jovyan/lib/spark-3.1-bigquery-0.27.1-preview.jar\") \\\n",
    "    .set(\"spark.hadoop.google.cloud.auth.service.account.enable\", \"true\") \\\n",
    "    .set(\"spark.hadoop.google.cloud.auth.service.account.json.keyfile\", credentials_location)"
   ]
  },
  {
   "cell_type": "code",
   "execution_count": 2,
   "id": "07ac7006-8870-40ec-bae7-04cc62f49e35",
   "metadata": {},
   "outputs": [],
   "source": [
    "sc = SparkContext(conf=conf)\n",
    "\n",
    "hadoop_conf = sc._jsc.hadoopConfiguration()\n",
    "\n",
    "hadoop_conf.set(\"fs.AbstractFileSystem.gs.impl\",  \"com.google.cloud.hadoop.fs.gcs.GoogleHadoopFS\")\n",
    "hadoop_conf.set(\"fs.gs.impl\", \"com.google.cloud.hadoop.fs.gcs.GoogleHadoopFileSystem\")\n",
    "hadoop_conf.set(\"fs.gs.auth.service.account.json.keyfile\", credentials_location)\n",
    "hadoop_conf.set(\"fs.gs.auth.service.account.enable\", \"true\")"
   ]
  },
  {
   "cell_type": "code",
   "execution_count": 3,
   "id": "52eb8f36-08ad-4e34-9790-eeb48d8ebaca",
   "metadata": {},
   "outputs": [],
   "source": [
    "spark = SparkSession.builder \\\n",
    "    .config(conf=sc.getConf()) \\\n",
    "    .getOrCreate()"
   ]
  },
  {
   "cell_type": "code",
   "execution_count": 4,
   "id": "5bce4f9e-88bf-4c02-86a1-df3c2c29fe65",
   "metadata": {},
   "outputs": [],
   "source": [
    "df_titles = spark.read.parquet('gs://dtc_data_lake_zoomcamp-final/raw/dataset/titles.parquet')"
   ]
  },
  {
   "cell_type": "code",
   "execution_count": 5,
   "id": "29d61c51-1b02-4b77-be5c-4afeb9136df2",
   "metadata": {},
   "outputs": [],
   "source": [
    "df_credits = spark.read.parquet('gs://dtc_data_lake_zoomcamp-final/raw/dataset/credits.parquet')"
   ]
  },
  {
   "cell_type": "code",
   "execution_count": 6,
   "id": "b3c798c3-0f85-4d17-973f-5a64a495e641",
   "metadata": {},
   "outputs": [
    {
     "data": {
      "text/plain": [
       "DataFrame[id: string, title: string, type: string, description: string, release_year: bigint, age_certification: string, runtime: bigint, genres: string, production_countries: string, seasons: double, imdb_id: string, imdb_score: double, imdb_votes: double, tmdb_popularity: double, tmdb_score: double]"
      ]
     },
     "execution_count": 6,
     "metadata": {},
     "output_type": "execute_result"
    }
   ],
   "source": [
    "df_titles"
   ]
  },
  {
   "cell_type": "code",
   "execution_count": 7,
   "id": "e3fec2b9-5a83-4eb7-80a0-16e743b36edf",
   "metadata": {},
   "outputs": [
    {
     "data": {
      "text/plain": [
       "DataFrame[person_id: bigint, id: string, name: string, character: string, role: string]"
      ]
     },
     "execution_count": 7,
     "metadata": {},
     "output_type": "execute_result"
    }
   ],
   "source": [
    "df_credits"
   ]
  },
  {
   "cell_type": "code",
   "execution_count": 8,
   "id": "d701b007-ecdc-4bc1-9c01-feaf7ac494d1",
   "metadata": {},
   "outputs": [
    {
     "data": {
      "text/plain": [
       "[Row(id='ts300399', title='Five Came Back: The Reference Films', type='SHOW', description='This collection includes 12 World War II-era propaganda films — many of which are graphic and offensive — discussed in the docuseries \"Five Came Back.\"', release_year=1945, age_certification='TV-MA', runtime=51, genres=\"['documentation']\", production_countries=\"['US']\", seasons=1.0, imdb_id='', imdb_score=None, imdb_votes=None, tmdb_popularity=0.6, tmdb_score=None),\n",
       " Row(id='tm84618', title='Taxi Driver', type='MOVIE', description='A mentally unstable Vietnam War veteran works as a night-time taxi driver in New York City where the perceived decadence and sleaze feed his urge for violent action.', release_year=1976, age_certification='R', runtime=114, genres=\"['drama', 'crime']\", production_countries=\"['US']\", seasons=None, imdb_id='tt0075314', imdb_score=8.2, imdb_votes=808582.0, tmdb_popularity=40.965, tmdb_score=8.179),\n",
       " Row(id='tm154986', title='Deliverance', type='MOVIE', description=\"Intent on seeing the Cahulawassee River before it's turned into one huge lake, outdoor fanatic Lewis Medlock takes his friends on a river-rafting trip they'll never forget into the dangerous American back-country.\", release_year=1972, age_certification='R', runtime=109, genres=\"['drama', 'action', 'thriller', 'european']\", production_countries=\"['US']\", seasons=None, imdb_id='tt0068473', imdb_score=7.7, imdb_votes=107673.0, tmdb_popularity=10.01, tmdb_score=7.3),\n",
       " Row(id='tm127384', title='Monty Python and the Holy Grail', type='MOVIE', description='King Arthur, accompanied by his squire, recruits his Knights of the Round Table, including Sir Bedevere the Wise, Sir Lancelot the Brave, Sir Robin the Not-Quite-So-Brave-As-Sir-Lancelot and Sir Galahad the Pure. On the way, Arthur battles the Black Knight who, despite having had all his limbs chopped off, insists he can still fight. They reach Camelot, but Arthur decides not  to enter, as \"it is a silly place\".', release_year=1975, age_certification='PG', runtime=91, genres=\"['fantasy', 'action', 'comedy']\", production_countries=\"['GB']\", seasons=None, imdb_id='tt0071853', imdb_score=8.2, imdb_votes=534486.0, tmdb_popularity=15.461, tmdb_score=7.811),\n",
       " Row(id='tm120801', title='The Dirty Dozen', type='MOVIE', description='12 American military prisoners in World War II are ordered to infiltrate a well-guarded enemy château and kill the Nazi officers vacationing there. The soldiers, most of whom are facing death sentences for a variety of violent crimes, agree to the mission and the possible commuting of their sentences.', release_year=1967, age_certification='', runtime=150, genres=\"['war', 'action']\", production_countries=\"['GB', 'US']\", seasons=None, imdb_id='tt0061578', imdb_score=7.7, imdb_votes=72662.0, tmdb_popularity=20.398, tmdb_score=7.6)]"
      ]
     },
     "execution_count": 8,
     "metadata": {},
     "output_type": "execute_result"
    }
   ],
   "source": [
    "df_titles.head(5)"
   ]
  },
  {
   "cell_type": "code",
   "execution_count": 9,
   "id": "a9695b38-f73c-44cc-b1c9-47805b31cfca",
   "metadata": {},
   "outputs": [
    {
     "data": {
      "text/plain": [
       "[Row(person_id=3748, id='tm84618', name='Robert De Niro', character='Travis Bickle', role='ACTOR'),\n",
       " Row(person_id=14658, id='tm84618', name='Jodie Foster', character='Iris Steensma', role='ACTOR'),\n",
       " Row(person_id=7064, id='tm84618', name='Albert Brooks', character='Tom', role='ACTOR'),\n",
       " Row(person_id=3739, id='tm84618', name='Harvey Keitel', character=\"Matthew 'Sport' Higgins\", role='ACTOR'),\n",
       " Row(person_id=48933, id='tm84618', name='Cybill Shepherd', character='Betsy', role='ACTOR'),\n",
       " Row(person_id=32267, id='tm84618', name='Peter Boyle', character='Wizard', role='ACTOR'),\n",
       " Row(person_id=519612, id='tm84618', name='Leonard Harris', character='Senator Charles Palantine', role='ACTOR'),\n",
       " Row(person_id=29068, id='tm84618', name='Diahnne Abbott', character='Concession Girl', role='ACTOR'),\n",
       " Row(person_id=519613, id='tm84618', name='Gino Ardito', character='Policeman at Rally', role='ACTOR'),\n",
       " Row(person_id=3308, id='tm84618', name='Martin Scorsese', character='Passenger Watching Silhouette', role='ACTOR')]"
      ]
     },
     "execution_count": 9,
     "metadata": {},
     "output_type": "execute_result"
    }
   ],
   "source": [
    "df_credits.head(10)"
   ]
  },
  {
   "cell_type": "code",
   "execution_count": 67,
   "id": "d081ee92-fe5c-4e2d-b1c2-4cab454c58c1",
   "metadata": {},
   "outputs": [],
   "source": [
    "facts_table = spark.createDataFrame(df_titles.join(df_credits, [\"id\"], \"inner\").collect())"
   ]
  },
  {
   "cell_type": "code",
   "execution_count": 57,
   "id": "7b4e9a10-838e-4922-b549-54f8b9cae7ca",
   "metadata": {},
   "outputs": [],
   "source": [
    "bucket = \"dtc_data_lake_zoomcamp-final/temp/\""
   ]
  },
  {
   "cell_type": "code",
   "execution_count": 58,
   "id": "889332f5-17f2-41f1-b9f1-a613661b14be",
   "metadata": {},
   "outputs": [],
   "source": [
    "spark.conf.set(\"temporaryGcsBucket\", bucket)"
   ]
  },
  {
   "cell_type": "code",
   "execution_count": 29,
   "id": "5b31f460-83f9-45f6-9bea-4508b3c16f98",
   "metadata": {},
   "outputs": [],
   "source": [
    "df_credits.write.format(\"bigquery\").option(\"table\",\"netflix_dataset.dim_credits\").save()"
   ]
  },
  {
   "cell_type": "code",
   "execution_count": 30,
   "id": "8eab8443-7634-42ae-9c16-74cfaf8666e4",
   "metadata": {},
   "outputs": [],
   "source": [
    "df_titles.write.format(\"bigquery\").option(\"table\",\"netflix_dataset.dim_titles\").save()"
   ]
  },
  {
   "cell_type": "code",
   "execution_count": 68,
   "id": "09d3c1a5-518a-4c1f-a3e5-bc5b458cb740",
   "metadata": {},
   "outputs": [],
   "source": [
    "facts_table.write.format(\"bigquery\").option(\"table\",\"netflix_dataset.facts_table\").save()"
   ]
  },
  {
   "cell_type": "code",
   "execution_count": null,
   "id": "6487416c-65da-4225-990d-32eb187fa33d",
   "metadata": {},
   "outputs": [],
   "source": []
  }
 ],
 "metadata": {
  "kernelspec": {
   "display_name": "Python 3 (ipykernel)",
   "language": "python",
   "name": "python3"
  },
  "language_info": {
   "codemirror_mode": {
    "name": "ipython",
    "version": 3
   },
   "file_extension": ".py",
   "mimetype": "text/x-python",
   "name": "python",
   "nbconvert_exporter": "python",
   "pygments_lexer": "ipython3",
   "version": "3.10.8"
  }
 },
 "nbformat": 4,
 "nbformat_minor": 5
}
