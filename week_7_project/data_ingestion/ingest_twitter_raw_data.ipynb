{
 "cells": [
  {
   "cell_type": "code",
   "execution_count": 1,
   "id": "6dd3710d",
   "metadata": {},
   "outputs": [],
   "source": [
    "import opendatasets as od"
   ]
  },
  {
   "cell_type": "code",
   "execution_count": 2,
   "id": "1f4ad711",
   "metadata": {},
   "outputs": [
    {
     "name": "stdout",
     "output_type": "stream",
     "text": [
      "ref                                                             title                                             size  lastUpdated          downloadCount  voteCount  usabilityRating  \r\n",
      "--------------------------------------------------------------  -----------------------------------------------  -----  -------------------  -------------  ---------  ---------------  \r\n",
      "meirnizri/covid19-dataset                                       COVID-19 Dataset                                   5MB  2022-11-13 15:47:17          10277        307  1.0              \r\n",
      "michals22/coffee-dataset                                        Coffee dataset                                    24KB  2022-12-15 20:02:12           1502         47  1.0              \r\n",
      "thedevastator/jobs-dataset-from-glassdoor                       Salary Prediction                                  3MB  2022-11-16 13:52:31           6486        146  1.0              \r\n",
      "thedevastator/unlock-profits-with-e-commerce-sales-data         E-Commerce Sales Dataset                           6MB  2022-12-03 09:27:17           1020         27  0.9411765        \r\n",
      "ahmettalhabektas/argentina-car-prices                           Argentina car prices                               8KB  2022-12-05 09:05:21            567         27  1.0              \r\n",
      "mvieira101/global-cost-of-living                                Global Cost of Living                              1MB  2022-12-03 16:37:53           2711         58  0.9705882        \r\n",
      "thedevastator/uncovering-wage-disparities-in-pennsylvania-s-hi  Higher Education Wages                           223KB  2022-12-04 15:42:36            903         33  1.0              \r\n",
      "danela/fatal-alligator-attacks-us                               Fatal Alligator Attacks US                         5KB  2022-12-15 16:37:57            262         23  1.0              \r\n",
      "kabhishm/best-selling-music-artists-of-all-time                 Best Selling Music Artists of All Time             3KB  2022-12-09 07:04:29            807         37  0.9411765        \r\n",
      "swaptr/fifa-world-cup-2022-statistics                           FIFA World Cup 2022 Team Data                     15KB  2022-12-19 00:29:15           2093         52  0.9705882        \r\n",
      "whenamancodes/predict-diabities                                 Predict Diabetes                                   9KB  2022-11-09 12:18:49           6816        115  1.0              \r\n",
      "die9origephit/fifa-world-cup-2022-complete-dataset              Fifa World Cup 2022: Complete Dataset              7KB  2022-12-18 22:51:11           1486         69  0.9411765        \r\n",
      "mattop/alcohol-consumption-per-capita-2016                      Alcohol Consumption Per Capita 2016                4KB  2022-12-09 00:03:11           1098         43  1.0              \r\n",
      "swaptr/fifa-world-cup-2022-match-data                           FIFA World Cup 2022 Match Data                     7KB  2022-12-19 00:30:28           1067         30  1.0              \r\n",
      "laibaanwer/superstore-sales-dataset                             SuperStore Sales Dataset                           2MB  2022-12-07 08:53:32           1042         29  1.0              \r\n",
      "thedevastator/discovering-hidden-trends-in-global-video-games   Discovering Hidden Trends in Global Video Games   56KB  2022-12-03 11:21:47            595         35  1.0              \r\n",
      "prosperchuks/health-dataset                                     Diabetes, Hypertension and Stroke Prediction     750KB  2022-12-13 13:15:19           3021         68  1.0              \r\n",
      "thedevastator/the-ultimate-netflix-tv-shows-and-movies-dataset  Netflix TV Shows and Movies (2022 Updated)         2MB  2022-11-27 20:41:41           1737         35  0.9705882        \r\n",
      "catherinerasgaitis/mxmh-survey-results                          Music & Mental Health Survey Results              22KB  2022-11-21 10:03:12           2618         57  1.0              \r\n",
      "kabhishm/imdb-100-movie-titles                                  IMDB 100 Movies                                    9KB  2022-12-07 11:36:06            439         23  0.9411765        \r\n"
     ]
    }
   ],
   "source": [
    "!chmod 600 /Users/wilson/.kaggle/kaggle.json\n",
    "!kaggle datasets list"
   ]
  },
  {
   "cell_type": "code",
   "execution_count": 3,
   "id": "332199d5",
   "metadata": {},
   "outputs": [],
   "source": [
    "!mkdir data"
   ]
  },
  {
   "cell_type": "code",
   "execution_count": 8,
   "id": "f1edbb4e",
   "metadata": {},
   "outputs": [],
   "source": [
    "!mkdir -p data/twitter/csv"
   ]
  },
  {
   "cell_type": "code",
   "execution_count": 5,
   "id": "1d8e5f8f",
   "metadata": {
    "scrolled": true
   },
   "outputs": [
    {
     "name": "stdout",
     "output_type": "stream",
     "text": [
      "Downloading elon-musk-tweets-2010-2021.zip to /Users/wilson/Documents/GitHub/DE_Loka_zoomcamp/data-engineering-zoomcamp/week_7_project/data_ingestion\n",
      "100%|██████████████████████████████████████| 3.77M/3.77M [00:00<00:00, 20.7MB/s]\n",
      "100%|██████████████████████████████████████| 3.77M/3.77M [00:00<00:00, 19.0MB/s]\n"
     ]
    }
   ],
   "source": [
    "!kaggle datasets download -d ayhmrba/elon-musk-tweets-2010-2021"
   ]
  },
  {
   "cell_type": "code",
   "execution_count": 6,
   "id": "6a654989",
   "metadata": {},
   "outputs": [],
   "source": [
    "from zipfile import ZipFile\n",
    "zf = ZipFile('elon-musk-tweets-2010-2021.zip', 'r')\n",
    "zf.extractall('data/twitter/csv')\n",
    "zf.close()"
   ]
  },
  {
   "cell_type": "code",
   "execution_count": 11,
   "id": "df469048",
   "metadata": {},
   "outputs": [
    {
     "name": "stdout",
     "output_type": "stream",
     "text": [
      "Copying file://data/twitter/csv/2010.csv to gs://de_zoomcamp_project_us/raw/twitter/2010.csv\n",
      "Copying file://data/twitter/csv/2011.csv to gs://de_zoomcamp_project_us/raw/twitter/2011.csv\n",
      "Copying file://data/twitter/csv/2012.csv to gs://de_zoomcamp_project_us/raw/twitter/2012.csv\n",
      "Copying file://data/twitter/csv/2013.csv to gs://de_zoomcamp_project_us/raw/twitter/2013.csv\n",
      "Copying file://data/twitter/csv/2014.csv to gs://de_zoomcamp_project_us/raw/twitter/2014.csv\n",
      "Copying file://data/twitter/csv/2015.csv to gs://de_zoomcamp_project_us/raw/twitter/2015.csv\n",
      "Copying file://data/twitter/csv/2016.csv to gs://de_zoomcamp_project_us/raw/twitter/2016.csv\n",
      "Copying file://data/twitter/csv/2017.csv to gs://de_zoomcamp_project_us/raw/twitter/2017.csv\n",
      "Copying file://data/twitter/csv/2018.csv to gs://de_zoomcamp_project_us/raw/twitter/2018.csv\n",
      "Copying file://data/twitter/csv/2019.csv to gs://de_zoomcamp_project_us/raw/twitter/2019.csv\n",
      "Copying file://data/twitter/csv/2020.csv to gs://de_zoomcamp_project_us/raw/twitter/2020.csv\n",
      "Copying file://data/twitter/csv/2021.csv to gs://de_zoomcamp_project_us/raw/twitter/2021.csv\n",
      "Copying file://data/twitter/csv/2022.csv to gs://de_zoomcamp_project_us/raw/twitter/2022.csv\n",
      "  Completed files 13/13 | 14.3MiB/14.3MiB                                      \n",
      "\n",
      "Average throughput: 6.7MiB/s\n"
     ]
    }
   ],
   "source": [
    "!gcloud storage cp data/twitter/csv/* gs://de_zoomcamp_project_us/raw/twitter -r"
   ]
  },
  {
   "cell_type": "code",
   "execution_count": null,
   "id": "8a68061f",
   "metadata": {},
   "outputs": [],
   "source": [
    "!rm elon-musk-tweets-2010-2021.zip"
   ]
  }
 ],
 "metadata": {
  "kernelspec": {
   "display_name": "Python 3 (ipykernel)",
   "language": "python",
   "name": "python3"
  },
  "language_info": {
   "codemirror_mode": {
    "name": "ipython",
    "version": 3
   },
   "file_extension": ".py",
   "mimetype": "text/x-python",
   "name": "python",
   "nbconvert_exporter": "python",
   "pygments_lexer": "ipython3",
   "version": "3.9.16"
  }
 },
 "nbformat": 4,
 "nbformat_minor": 5
}
