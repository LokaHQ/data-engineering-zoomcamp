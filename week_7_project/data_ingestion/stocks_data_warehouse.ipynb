{
 "cells": [
  {
   "cell_type": "code",
   "execution_count": 31,
   "id": "2dad5d3d",
   "metadata": {},
   "outputs": [],
   "source": [
    "import pandas as pd\n",
    "import datetime"
   ]
  },
  {
   "cell_type": "code",
   "execution_count": 32,
   "id": "90a47721",
   "metadata": {},
   "outputs": [],
   "source": [
    "# Nasdaq\n",
    "# amazon = pd.read_csv('../data_ingestion/data/stocks/csv/nasdaq/csv/AMZN.csv')\n",
    "# apple = pd.read_csv('../data_ingestion/data/stocks/csv/nasdaq/csv/AAPL.csv')\n",
    "# intel = pd.read_csv('../data_ingestion/data/stocks/csv/nasdaq/csv/INTC.csv')\n",
    "# netflix = pd.read_csv('../data_ingestion/data/stocks/csv/nasdaq/csv/NFLX.csv')"
   ]
  },
  {
   "cell_type": "code",
   "execution_count": 54,
   "id": "56bc20a9",
   "metadata": {},
   "outputs": [],
   "source": [
    "# sp500\n",
    "# google = pd.read_csv('../data_ingestion/data/stocks/csv/sp500/csv/GOOG.csv')\n",
    "# exxon = pd.read_csv('../data_ingestion/data/stocks/csv/sp500/csv/XOM.csv')\n",
    "# visa = pd.read_csv('../data_ingestion/data/stocks/csv/sp500/csv/V.csv')\n",
    "# pfizer = pd.read_csv('../data_ingestion/data/stocks/csv/sp500/csv/PFE.csv')\n",
    "# jpmorgan = pd.read_csv('../data_ingestion/data/stocks/csv/sp500/csv/JPM.csv')\n",
    "# twitter = pd.read_csv('../data_ingestion/data/stocks/csv/sp500/csv/TWTR.csv')"
   ]
  },
  {
   "cell_type": "code",
   "execution_count": 55,
   "id": "33b58adf",
   "metadata": {},
   "outputs": [],
   "source": [
    "!mkdir -p data/stocks/warehouse"
   ]
  },
  {
   "cell_type": "code",
   "execution_count": 56,
   "id": "28285b8e",
   "metadata": {},
   "outputs": [
    {
     "name": "stderr",
     "output_type": "stream",
     "text": [
      "/var/folders/t6/71hhy6450kl761gwrq_2xwf80000gn/T/ipykernel_25900/3152189671.py:7: UserWarning: Parsing dates in DD/MM/YYYY format when dayfirst=False (the default) was specified. This may lead to inconsistently parsed dates! Specify a format to ensure consistent parsing.\n",
      "  stock['Date'] = pd.to_datetime(stock['Date'])\n",
      "/var/folders/t6/71hhy6450kl761gwrq_2xwf80000gn/T/ipykernel_25900/3152189671.py:7: UserWarning: Parsing dates in DD/MM/YYYY format when dayfirst=False (the default) was specified. This may lead to inconsistently parsed dates! Specify a format to ensure consistent parsing.\n",
      "  stock['Date'] = pd.to_datetime(stock['Date'])\n",
      "/var/folders/t6/71hhy6450kl761gwrq_2xwf80000gn/T/ipykernel_25900/3152189671.py:7: UserWarning: Parsing dates in DD/MM/YYYY format when dayfirst=False (the default) was specified. This may lead to inconsistently parsed dates! Specify a format to ensure consistent parsing.\n",
      "  stock['Date'] = pd.to_datetime(stock['Date'])\n",
      "/var/folders/t6/71hhy6450kl761gwrq_2xwf80000gn/T/ipykernel_25900/3152189671.py:7: UserWarning: Parsing dates in DD/MM/YYYY format when dayfirst=False (the default) was specified. This may lead to inconsistently parsed dates! Specify a format to ensure consistent parsing.\n",
      "  stock['Date'] = pd.to_datetime(stock['Date'])\n",
      "/var/folders/t6/71hhy6450kl761gwrq_2xwf80000gn/T/ipykernel_25900/3152189671.py:16: UserWarning: Parsing dates in DD/MM/YYYY format when dayfirst=False (the default) was specified. This may lead to inconsistently parsed dates! Specify a format to ensure consistent parsing.\n",
      "  stock['Date'] = pd.to_datetime(stock['Date'])\n",
      "/var/folders/t6/71hhy6450kl761gwrq_2xwf80000gn/T/ipykernel_25900/3152189671.py:16: UserWarning: Parsing dates in DD/MM/YYYY format when dayfirst=False (the default) was specified. This may lead to inconsistently parsed dates! Specify a format to ensure consistent parsing.\n",
      "  stock['Date'] = pd.to_datetime(stock['Date'])\n",
      "/var/folders/t6/71hhy6450kl761gwrq_2xwf80000gn/T/ipykernel_25900/3152189671.py:16: UserWarning: Parsing dates in DD/MM/YYYY format when dayfirst=False (the default) was specified. This may lead to inconsistently parsed dates! Specify a format to ensure consistent parsing.\n",
      "  stock['Date'] = pd.to_datetime(stock['Date'])\n",
      "/var/folders/t6/71hhy6450kl761gwrq_2xwf80000gn/T/ipykernel_25900/3152189671.py:16: UserWarning: Parsing dates in DD/MM/YYYY format when dayfirst=False (the default) was specified. This may lead to inconsistently parsed dates! Specify a format to ensure consistent parsing.\n",
      "  stock['Date'] = pd.to_datetime(stock['Date'])\n",
      "/var/folders/t6/71hhy6450kl761gwrq_2xwf80000gn/T/ipykernel_25900/3152189671.py:16: UserWarning: Parsing dates in DD/MM/YYYY format when dayfirst=False (the default) was specified. This may lead to inconsistently parsed dates! Specify a format to ensure consistent parsing.\n",
      "  stock['Date'] = pd.to_datetime(stock['Date'])\n",
      "/var/folders/t6/71hhy6450kl761gwrq_2xwf80000gn/T/ipykernel_25900/3152189671.py:16: UserWarning: Parsing dates in DD/MM/YYYY format when dayfirst=False (the default) was specified. This may lead to inconsistently parsed dates! Specify a format to ensure consistent parsing.\n",
      "  stock['Date'] = pd.to_datetime(stock['Date'])\n"
     ]
    }
   ],
   "source": [
    "nasdaq = ['AMZN', 'AAPL', 'INTC', 'NFLX']\n",
    "\n",
    "for stock_name in nasdaq:\n",
    "    stock = pd.read_csv(f'../data_ingestion/data/stocks/csv/nasdaq/csv/{stock_name}.csv')\n",
    "    stock = stock.reset_index(drop=True)\n",
    "    stock = stock[['Date','Adjusted Close']]\n",
    "    stock['Date'] = pd.to_datetime(stock['Date'])\n",
    "    stock.to_csv(f'{stock_name}.csv')\n",
    "    \n",
    "sp500 = ['GOOG', 'XOM', 'V', 'PFE', 'JPM', 'TWTR']\n",
    "\n",
    "for stock_name in sp500:\n",
    "    stock = pd.read_csv(f'../data_ingestion/data/stocks/csv/sp500/csv/{stock_name}.csv')\n",
    "    stock = stock.reset_index(drop=True)\n",
    "    stock = stock[['Date','Adjusted Close']]\n",
    "    stock['Date'] = pd.to_datetime(stock['Date'])\n",
    "    stock.to_csv(f'{stock_name}.csv')\n",
    "    "
   ]
  },
  {
   "cell_type": "code",
   "execution_count": 57,
   "id": "da389403",
   "metadata": {},
   "outputs": [],
   "source": [
    "!mv *.csv data/stocks/warehouse"
   ]
  },
  {
   "cell_type": "code",
   "execution_count": 58,
   "id": "bea277ff",
   "metadata": {},
   "outputs": [
    {
     "name": "stdout",
     "output_type": "stream",
     "text": [
      "Copying file://data/stocks/warehouse/AAPL.csv to gs://de_zoomcamp_project_us/warehouse/stocks/AAPL.csv\n",
      "Copying file://data/stocks/warehouse/AMZN.csv to gs://de_zoomcamp_project_us/warehouse/stocks/AMZN.csv\n",
      "Copying file://data/stocks/warehouse/GOOG.csv to gs://de_zoomcamp_project_us/warehouse/stocks/GOOG.csv\n",
      "Copying file://data/stocks/warehouse/INTC.csv to gs://de_zoomcamp_project_us/warehouse/stocks/INTC.csv\n",
      "Copying file://data/stocks/warehouse/JPM.csv to gs://de_zoomcamp_project_us/warehouse/stocks/JPM.csv\n",
      "Copying file://data/stocks/warehouse/NFLX.csv to gs://de_zoomcamp_project_us/warehouse/stocks/NFLX.csv\n",
      "Copying file://data/stocks/warehouse/PFE.csv to gs://de_zoomcamp_project_us/warehouse/stocks/PFE.csv\n",
      "Copying file://data/stocks/warehouse/TWTR.csv to gs://de_zoomcamp_project_us/warehouse/stocks/TWTR.csv\n",
      "Copying file://data/stocks/warehouse/V.csv to gs://de_zoomcamp_project_us/warehouse/stocks/V.csv\n",
      "Copying file://data/stocks/warehouse/XOM.csv to gs://de_zoomcamp_project_us/warehouse/stocks/XOM.csv\n",
      "  Completed files 10/10 | 2.6MiB/2.6MiB                                        \n",
      "\n",
      "Average throughput: 13.6MiB/s\n"
     ]
    }
   ],
   "source": [
    "# Upload to GCS\n",
    "!gcloud storage cp data/stocks/warehouse/* gs://de_zoomcamp_project_us/warehouse/stocks -r"
   ]
  },
  {
   "cell_type": "code",
   "execution_count": null,
   "id": "8619c36d",
   "metadata": {},
   "outputs": [],
   "source": []
  }
 ],
 "metadata": {
  "kernelspec": {
   "display_name": "Python 3 (ipykernel)",
   "language": "python",
   "name": "python3"
  },
  "language_info": {
   "codemirror_mode": {
    "name": "ipython",
    "version": 3
   },
   "file_extension": ".py",
   "mimetype": "text/x-python",
   "name": "python",
   "nbconvert_exporter": "python",
   "pygments_lexer": "ipython3",
   "version": "3.9.16"
  }
 },
 "nbformat": 4,
 "nbformat_minor": 5
}
