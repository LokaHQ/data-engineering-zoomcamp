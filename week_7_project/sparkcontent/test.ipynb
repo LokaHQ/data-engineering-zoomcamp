{
 "cells": [
  {
   "cell_type": "code",
   "execution_count": 9,
   "id": "744a9178-5080-445b-939a-955bf2fb89eb",
   "metadata": {},
   "outputs": [],
   "source": [
    "from google.cloud import storage\n",
    "import pyarrow.parquet as pq\n",
    "import pyarrow as pa\n",
    "\n",
    "GCP_PROJECT_ID = 'data-bootcamp-efreitas'\n",
    "GCP_GCS_BUCKET = \"dtc_data_lake_data-bootcamp-efreitas\"\n",
    "BLOB_NAME = \"raw/steam_games_dataset/games.parquet\" \n",
    "storage_client = storage.Client()\n",
    "bucket = storage_client.bucket(GCP_GCS_BUCKET)\n",
    "blob = bucket.blob(BLOB_NAME)\n",
    "blob.download_to_filename(\"games.parquet\")\n"
   ]
  },
  {
   "cell_type": "code",
   "execution_count": 2,
   "id": "1c7d62e1-2db7-42b6-a3d1-188b331f17cf",
   "metadata": {},
   "outputs": [],
   "source": [
    "import pyspark\n",
    "from pyspark.sql import SparkSession\n",
    "\n",
    "spark = SparkSession.builder \\\n",
    "    .master(\"local[*]\") \\\n",
    "    .appName('test') \\\n",
    "    .getOrCreate()"
   ]
  },
  {
   "cell_type": "code",
   "execution_count": 46,
   "id": "7929c774-5784-4f31-8081-cd49581fd5ee",
   "metadata": {},
   "outputs": [],
   "source": [
    "from pyspark.sql import types\n",
    "games_schema = types.StructType([\n",
    "    types.StructField(\"AppID\", types.IntegerType(), True),\n",
    "    types.StructField(\"Name\", types.StringType(), True),\n",
    "    types.StructField(\"Release date\", types.DateType(), True),\n",
    "    types.StructField(\"Estimated owners\", types.StringType(), True),\n",
    "    types.StructField(\"Peak CCU\", types.IntegerType(), True),\n",
    "    types.StructField(\"Required age\", types.IntegerType(), True),\n",
    "    types.StructField(\"Price\", types.DoubleType(), True),\n",
    "    types.StructField(\"DLC count\", types.IntegerType(), True),\n",
    "    types.StructField(\"About the game\", types.StringType(), True),\n",
    "    types.StructField(\"Supported language\", types.StringType(), True),\n",
    "])"
   ]
  },
  {
   "cell_type": "code",
   "execution_count": 54,
   "id": "18868fc0-c7d7-471a-b044-2a92a1492b1d",
   "metadata": {},
   "outputs": [],
   "source": [
    "games = spark.read.option(\"header\", \"true\").parquet('./games.parquet')"
   ]
  },
  {
   "cell_type": "code",
   "execution_count": 95,
   "id": "2d54148a-ccc8-4000-8a9a-e673cb19b540",
   "metadata": {},
   "outputs": [],
   "source": [
    "from pyspark.sql.functions import *"
   ]
  },
  {
   "cell_type": "code",
   "execution_count": 96,
   "id": "10c87b64-3363-445d-9718-26be56611d50",
   "metadata": {},
   "outputs": [],
   "source": [
    "games.registerTempTable('steam_data')"
   ]
  },
  {
   "cell_type": "code",
   "execution_count": 97,
   "id": "d594c9e9-4f87-465e-be91-e3405357633d",
   "metadata": {},
   "outputs": [
    {
     "data": {
      "text/plain": [
       "['AppID',\n",
       " 'Name',\n",
       " 'Release date',\n",
       " 'Estimated owners',\n",
       " 'Peak CCU',\n",
       " 'Required age',\n",
       " 'Price',\n",
       " 'DLC count',\n",
       " 'About the game',\n",
       " 'Supported languages',\n",
       " 'Full audio languages',\n",
       " 'Reviews',\n",
       " 'Header image',\n",
       " 'Website',\n",
       " 'Support url',\n",
       " 'Support email',\n",
       " 'Windows',\n",
       " 'Mac',\n",
       " 'Linux',\n",
       " 'Metacritic score',\n",
       " 'Metacritic url',\n",
       " 'User score',\n",
       " 'Positive',\n",
       " 'Negative',\n",
       " 'Score rank',\n",
       " 'Achievements',\n",
       " 'Recommendations',\n",
       " 'Notes',\n",
       " 'Average playtime forever',\n",
       " 'Average playtime two weeks',\n",
       " 'Median playtime forever',\n",
       " 'Median playtime two weeks',\n",
       " 'Developers',\n",
       " 'Publishers',\n",
       " 'Categories',\n",
       " 'Genres',\n",
       " 'Tags',\n",
       " 'Screenshots',\n",
       " 'Movies']"
      ]
     },
     "execution_count": 97,
     "metadata": {},
     "output_type": "execute_result"
    }
   ],
   "source": [
    "games.columns"
   ]
  },
  {
   "cell_type": "code",
   "execution_count": 98,
   "id": "14b61f65-c9f3-4791-880f-7e610f52dbf4",
   "metadata": {},
   "outputs": [
    {
     "name": "stdout",
     "output_type": "stream",
     "text": [
      "root\n",
      " |-- AppID: long (nullable = true)\n",
      " |-- Name: string (nullable = true)\n",
      " |-- Release date: string (nullable = true)\n",
      " |-- Estimated owners: string (nullable = true)\n",
      " |-- Peak CCU: long (nullable = true)\n",
      " |-- Required age: long (nullable = true)\n",
      " |-- Price: double (nullable = true)\n",
      " |-- DLC count: long (nullable = true)\n",
      " |-- About the game: string (nullable = true)\n",
      " |-- Supported languages: string (nullable = true)\n",
      " |-- Full audio languages: string (nullable = true)\n",
      " |-- Reviews: string (nullable = true)\n",
      " |-- Header image: string (nullable = true)\n",
      " |-- Website: string (nullable = true)\n",
      " |-- Support url: string (nullable = true)\n",
      " |-- Support email: string (nullable = true)\n",
      " |-- Windows: boolean (nullable = true)\n",
      " |-- Mac: boolean (nullable = true)\n",
      " |-- Linux: boolean (nullable = true)\n",
      " |-- Metacritic score: long (nullable = true)\n",
      " |-- Metacritic url: string (nullable = true)\n",
      " |-- User score: long (nullable = true)\n",
      " |-- Positive: long (nullable = true)\n",
      " |-- Negative: long (nullable = true)\n",
      " |-- Score rank: string (nullable = true)\n",
      " |-- Achievements: long (nullable = true)\n",
      " |-- Recommendations: long (nullable = true)\n",
      " |-- Notes: string (nullable = true)\n",
      " |-- Average playtime forever: long (nullable = true)\n",
      " |-- Average playtime two weeks: long (nullable = true)\n",
      " |-- Median playtime forever: long (nullable = true)\n",
      " |-- Median playtime two weeks: long (nullable = true)\n",
      " |-- Developers: string (nullable = true)\n",
      " |-- Publishers: string (nullable = true)\n",
      " |-- Categories: string (nullable = true)\n",
      " |-- Genres: string (nullable = true)\n",
      " |-- Tags: string (nullable = true)\n",
      " |-- Screenshots: string (nullable = true)\n",
      " |-- Movies: string (nullable = true)\n",
      "\n"
     ]
    }
   ],
   "source": [
    "games.printSchema()"
   ]
  },
  {
   "cell_type": "code",
   "execution_count": 124,
   "id": "88a21542-9a2e-496a-a073-8ac085f39844",
   "metadata": {},
   "outputs": [
    {
     "name": "stdout",
     "output_type": "stream",
     "text": [
      "+------------+----------+\n",
      "|Release date|   to_date|\n",
      "+------------+----------+\n",
      "|Oct 21, 2008|2008-10-21|\n",
      "|Oct 12, 2017|2017-10-12|\n",
      "|Nov 17, 2021|2021-11-17|\n",
      "|Jul 23, 2020|2020-07-23|\n",
      "| Feb 3, 2020|2020-02-03|\n",
      "|Feb 26, 2021|2021-02-26|\n",
      "| Jan 9, 2022|2022-01-09|\n",
      "| May 5, 2022|2022-05-05|\n",
      "| Apr 2, 2020|2020-04-02|\n",
      "|Nov 11, 2014|2014-11-11|\n",
      "| Oct 2, 2019|2019-10-02|\n",
      "| Jul 1, 2016|2016-07-01|\n",
      "|Aug 27, 2021|2021-08-27|\n",
      "| Apr 6, 2018|2018-04-06|\n",
      "|Nov 25, 2020|2020-11-25|\n",
      "|Nov 17, 2010|2010-11-17|\n",
      "| Nov 6, 2020|2020-11-06|\n",
      "|Feb 20, 2015|2015-02-20|\n",
      "|Jun 20, 2019|2019-06-20|\n",
      "|Jul 24, 2020|2020-07-24|\n",
      "+------------+----------+\n",
      "only showing top 20 rows\n",
      "\n"
     ]
    }
   ],
   "source": [
    "games.select(col(\"Release date\"), \n",
    "    to_date(col(\"Release date\"), \"MMM d, yyyy\").alias(\"to_date\") \n",
    "  ).show()"
   ]
  },
  {
   "cell_type": "code",
   "execution_count": 125,
   "id": "0fa66179-bd3a-47ef-88b5-865df2086e2d",
   "metadata": {},
   "outputs": [
    {
     "name": "stdout",
     "output_type": "stream",
     "text": [
      "+--------------------+----------------------------------+----------------+--------+-----+\n",
      "|                Name|to_date(Release date, MMM d, yyyy)|Estimated owners|Peak CCU|Price|\n",
      "+--------------------+----------------------------------+----------------+--------+-----+\n",
      "|    Galactic Bowling|                        2008-10-21|       0 - 20000|       0|19.99|\n",
      "|        Train Bandit|                        2017-10-12|       0 - 20000|       0| 0.99|\n",
      "|        Jolt Project|                        2021-11-17|       0 - 20000|       0| 4.99|\n",
      "|            Henosis™|                        2020-07-23|       0 - 20000|       0| 5.99|\n",
      "|Two Weeks in Pain...|                        2020-02-03|       0 - 20000|       0|  0.0|\n",
      "|      Wartune Reborn|                        2021-02-26|  50000 - 100000|      68|  0.0|\n",
      "|           TD Worlds|                        2022-01-09|       0 - 20000|       3|10.99|\n",
      "|Legend of Rome - ...|                        2022-05-05|       0 - 20000|       2| 9.99|\n",
      "|MazM: Jekyll and ...|                        2020-04-02|       0 - 20000|       1|14.99|\n",
      "|Deadlings: Rotten...|                        2014-11-11|  50000 - 100000|       0| 3.99|\n",
      "|              WARSAW|                        2019-10-02|   20000 - 50000|       5|23.99|\n",
      "|      Cthulhu Realms|                        2016-07-01|  50000 - 100000|       0|  0.0|\n",
      "|   Clockwork Dungeon|                        2021-08-27|       0 - 20000|       0| 1.99|\n",
      "|   Royal Battleships|                        2018-04-06|   20000 - 50000|       0| 2.99|\n",
      "|      Diary of Lucie|                        2020-11-25|       0 - 20000|       3|12.99|\n",
      "|Alien Breed 3: De...|                        2010-11-17| 200000 - 500000|       3| 9.99|\n",
      "| Hunting Unlimited 3|                        2020-11-06|       0 - 20000|       0| 9.99|\n",
      "|Hero of the Kingd...|                        2015-02-20| 100000 - 200000|       5| 7.99|\n",
      "|Super Naughty Maid 2|                        2019-06-20|       0 - 20000|       4| 9.59|\n",
      "|                KHIO|                        2020-07-24|       0 - 20000|       0| 9.99|\n",
      "+--------------------+----------------------------------+----------------+--------+-----+\n",
      "only showing top 20 rows\n",
      "\n"
     ]
    }
   ],
   "source": [
    "spark.sql(\"\"\"\n",
    "SELECT\n",
    "    Name,\n",
    "    to_date(`Release date`, 'MMM d, yyyy'),\n",
    "    `Estimated owners`,\n",
    "    `Peak CCU`,\n",
    "    Price\n",
    "FROM\n",
    "    steam_data\n",
    "\"\"\").show()"
   ]
  },
  {
   "cell_type": "code",
   "execution_count": 155,
   "id": "c0b39206-6c58-4afc-8e01-58d3c063d119",
   "metadata": {},
   "outputs": [],
   "source": [
    "games_aggregation = spark.sql(\"\"\"\n",
    "SELECT\n",
    "    year(to_date(`Release date`, \"MMM d, yyyy\")) as year,\n",
    "    COUNT(NAME) as releases,\n",
    "    ROUND(SUM(Price),2) as total_price,\n",
    "    ROUND(AVG(Price),2) as avg_price,\n",
    "    ROUND(MAX(Price), 2) as max_price,\n",
    "    ROUND(MIN(Price), 2) as min_price,\n",
    "    ROUND(AVG(`Metacritic score`), 2) as avg_score\n",
    "FROM\n",
    "    steam_data\n",
    "WHERE Price > 0\n",
    "GROUP BY year(to_date(`Release date`, \"MMM d, yyyy\"))\n",
    "ORDER BY year(to_date(`Release date`, \"MMM d, yyyy\")) DESC;\n",
    "\"\"\")"
   ]
  },
  {
   "cell_type": "code",
   "execution_count": 166,
   "id": "33c8934e-a899-45ec-8874-92ee16f93433",
   "metadata": {},
   "outputs": [],
   "source": [
    "games_aggregation.write.parquet('games_aggregation.parquet', 'overwrite')"
   ]
  },
  {
   "cell_type": "code",
   "execution_count": 174,
   "id": "f24ce9ae-a809-42bd-918f-bc9ee9e5c4af",
   "metadata": {},
   "outputs": [
    {
     "name": "stdout",
     "output_type": "stream",
     "text": [
      "./games_aggregation.parquet/part-00000-9d0b6f1c-f1b8-42ba-8714-0c42f8dd98c9-c000.snappy.parquet\n"
     ]
    }
   ],
   "source": [
    "import glob\n",
    "source_file_name = glob.glob('./games_aggregation.parquet/' + '*.parquet')[0]\n",
    "print(source_file_name)"
   ]
  },
  {
   "cell_type": "code",
   "execution_count": 176,
   "id": "af53958d-b5e1-4d19-a249-0f65f8dcaf11",
   "metadata": {},
   "outputs": [],
   "source": [
    "from google.cloud import storage\n",
    "import pyarrow.parquet as pq\n",
    "import pyarrow as pa\n",
    "\n",
    "GCP_PROJECT_ID = 'data-bootcamp-efreitas'\n",
    "GCP_GCS_BUCKET = \"dtc_data_lake_data-bootcamp-efreitas\"\n",
    "DESTINATION_BLOB_NAME = \"processed/steam_games_dataset/games_aggregation.parquet\" \n",
    "storage_client = storage.Client()\n",
    "bucket = storage_client.bucket(GCP_GCS_BUCKET)\n",
    "blob = bucket.blob(DESTINATION_BLOB_NAME)\n",
    "blob.upload_from_filename(source_file_name)\n"
   ]
  },
  {
   "cell_type": "code",
   "execution_count": 4,
   "id": "db590ba9-5b6b-4fe8-a22b-1b3cbbee5119",
   "metadata": {},
   "outputs": [
    {
     "data": {
      "text/plain": [
       "Table(TableReference(DatasetReference('data-bootcamp-efreitas', 'steam_analysis'), 'games_aggregation'))"
      ]
     },
     "execution_count": 4,
     "metadata": {},
     "output_type": "execute_result"
    }
   ],
   "source": [
    "from google.cloud import bigquery\n",
    "\n",
    "client = bigquery.Client()\n",
    "STEAM_ANALYSIS = 'steam_analysis'\n",
    "TABLE_AGGREGATION = 'games_aggregation'\n",
    "BUCKET = 'gs://dtc_data_lake_data-bootcamp-efreitas/processed/steam_games_dataset/games_aggregation.parquet'\n",
    "dataset_ref = client.dataset(STEAM_ANALYSIS)\n",
    "table_ref = bigquery.TableReference(dataset_ref, TABLE_AGGREGATION)\n",
    "table = bigquery.Table(table_ref)\n",
    "\n",
    "external_config = bigquery.ExternalConfig('PARQUET')\n",
    "source_uris = [BUCKET] #i.e for a csv file in a Cloud Storage bucket \n",
    "                                              #it would be something like \"gs://<your-bucket>/<your-csv-file>\"\n",
    "external_config.source_uris = source_uris\n",
    "external_config.autodetect = True\n",
    "table.external_data_configuration = external_config\n",
    "\n",
    "client.create_table(table)"
   ]
  },
  {
   "cell_type": "code",
   "execution_count": null,
   "id": "422f6318-a497-4aca-ba33-1e64d175d216",
   "metadata": {},
   "outputs": [],
   "source": []
  }
 ],
 "metadata": {
  "kernelspec": {
   "display_name": "Python 3 (ipykernel)",
   "language": "python",
   "name": "python3"
  },
  "language_info": {
   "codemirror_mode": {
    "name": "ipython",
    "version": 3
   },
   "file_extension": ".py",
   "mimetype": "text/x-python",
   "name": "python",
   "nbconvert_exporter": "python",
   "pygments_lexer": "ipython3",
   "version": "3.10.8"
  }
 },
 "nbformat": 4,
 "nbformat_minor": 5
}
